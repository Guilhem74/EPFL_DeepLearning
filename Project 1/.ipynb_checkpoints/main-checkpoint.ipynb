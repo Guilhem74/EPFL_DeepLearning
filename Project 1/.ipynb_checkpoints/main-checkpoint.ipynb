{
 "cells": [
  {
   "cell_type": "code",
   "execution_count": 43,
   "metadata": {},
   "outputs": [],
   "source": [
    "import torch\n",
    "import math\n",
    "\n",
    "from torch import optim\n",
    "from torch import Tensor\n",
    "from torch.autograd import Variable\n",
    "from torch import nn\n",
    "from torch.nn import functional as F\n"
   ]
  },
  {
   "cell_type": "markdown",
   "metadata": {},
   "source": [
    "The goal of this project is to implement a deep network such that, given as input a series of 2×14×14 tensor, corresponding to pairs of 14 × 14 grayscale images, it predicts for each pair if the first digit is lesser or equal to the second.\n",
    "\n",
    "The training and test set should be 1, 000 pairs each, and the size of the images allows to run experiments rapidly, even in the VM with a single core and no GPU.\n"
   ]
  },
  {
   "cell_type": "markdown",
   "metadata": {},
   "source": [
    "You can generate the data sets to use with the function generate_pair_sets(N) defined in the file dlc_practical_prologue.py."
   ]
  },
  {
   "cell_type": "code",
   "execution_count": 3,
   "metadata": {},
   "outputs": [],
   "source": [
    "import dlc_practical_prologue"
   ]
  },
  {
   "cell_type": "code",
   "execution_count": 4,
   "metadata": {},
   "outputs": [],
   "source": [
    "train_input, train_target, train_classes, test_input, test_target, test_classes = \\\n",
    "    dlc_practical_prologue.generate_pair_sets(100)"
   ]
  },
  {
   "cell_type": "markdown",
   "metadata": {},
   "source": [
    "|      Name     | Tensor Dimension |   Type  |                  Content                 |\n",
    "|:-------------:|:----------------:|:-------:|:----------------------------------------:|\n",
    "|  Train_input  |  N x 2 x 14 x 14 | float32 |                  Images                  |\n",
    "|  Train_target |         N        |  int64  |          Class to predict €{0,1}         |\n",
    "| Train_classes |       N x 2      |  int64  | Classes of the two digits € {0, ... ,9 } |\n",
    "|   Test_input  |  N x 2 x 14 x 14 | float32 |                  Images                  |\n",
    "|  Test_target  |         N        |  int64  |          Class to predict €{0,1}         |\n",
    "|  Test_classes |       N x 2      |  int64  | Classes of the two digits € {0, ... ,9 } |"
   ]
  },
  {
   "cell_type": "markdown",
   "metadata": {},
   "source": [
    "The goal of the project is to compare different architectures, and assess the performance improvement that can be achieved through weight sharing, or using auxiliary losses.\n",
    "\n",
    "For the latter, the training can in particular take advantage of the availability of the classes of the two digits in each pair, beside the Boolean value truly of interest.\n",
    "\n",
    "All the experiments should be done with 1, 000 pairs for training and test. A convnet with ∼ 70, 000 parameters can be trained with 25 epochs in the VM in less than 2s and should achieve ∼ 15% error rate.\n",
    "\n",
    "Performance estimates provided in your report should be estimated through 10+ rounds for each architecture, where both data and weight initialization are randomized, and you should provide estimates of standard deviations.\n"
   ]
  },
  {
   "cell_type": "code",
   "execution_count": 5,
   "metadata": {},
   "outputs": [],
   "source": [
    "train_input, train_target, train_classes = Variable(train_input), Variable(train_target), Variable(train_classes)\n",
    "test_input, test_target, test_classes = Variable(test_input), Variable(test_target), Variable(test_classes)\n",
    "mini_batch_size = 100\n"
   ]
  },
  {
   "cell_type": "code",
   "execution_count": 15,
   "metadata": {},
   "outputs": [],
   "source": [
    "def train_model(model, train_input, train_target):\n",
    "    criterion = nn.CrossEntropyLoss()\n",
    "    optimizer = optim.SGD(model.parameters(), lr = 1e-1)\n",
    "    nb_epochs = 25\n",
    "\n",
    "    for e in range(nb_epochs):\n",
    "        for b in range(0, train_input.size(0), mini_batch_size):\n",
    "            output = model(train_input.narrow(0, b, mini_batch_size))\n",
    "            loss = criterion(output, train_target.narrow(0, b, mini_batch_size))\n",
    "            model.zero_grad()\n",
    "            loss.backward()\n",
    "            optimizer.step()\n"
   ]
  },
  {
   "cell_type": "code",
   "execution_count": 16,
   "metadata": {},
   "outputs": [],
   "source": [
    "def compute_nb_errors(model, data_input, data_target):\n",
    "\n",
    "    nb_data_errors = 0\n",
    "\n",
    "    for b in range(0, data_input.size(0), mini_batch_size):\n",
    "        output = model(data_input.narrow(0, b, mini_batch_size))\n",
    "        _, predicted_classes = torch.max(output.data, 1)\n",
    "        for k in range(mini_batch_size):\n",
    "            if data_target.data[b + k] != predicted_classes[k]:\n",
    "                nb_data_errors = nb_data_errors + 1\n",
    "\n",
    "    return nb_data_errors"
   ]
  },
  {
   "cell_type": "code",
   "execution_count": 60,
   "metadata": {},
   "outputs": [],
   "source": [
    "class Weight_Sharing_Model(nn.Module):\n",
    "    def __init__(self, nb_hidden):\n",
    "        super(Net, self).__init__()\n",
    "        \"\"\"Modele 1 for digit recognition\"\"\"\n",
    "        self.Layer1 = nn.Linear(196, nb_hidden)\n",
    "        self.Layer2 = nn.Linear(nb_hidden, 10)\n",
    "        self.Boolean_Comparison = nn.Linear(20, 1)\n",
    "\n",
    "        \"\"\"Modele 2 for digit comparison\"\"\"\n",
    "    def forward(self,img1,img2):\n",
    "        x = F.relu(self.Layer1(img1.view(-1, 196)))\n",
    "        x = self.Layer2(x)\n",
    "        y = F.relu(self.Layer1(img1.view(-1, 196)))\n",
    "        y = self.Layer2(y)\n",
    "        z=self.Boolean_Comparison(torch.cat((x,y)).view(-1, 20))\n",
    "        \"\"\"y = F.relu(F.max_pool2d(self.conv1(img2), kernel_size=3, stride=3))\n",
    "        y = F.relu(F.max_pool2d(self.conv2(x), kernel_size=2, stride=2))\n",
    "        y = F.relu(self.fc1(x.view(-1, 256)))\n",
    "        y = self.fc2(x)\n",
    "        z=self.Boolean_Comparison()\"\"\"\n",
    "        return x,y,z"
   ]
  },
  {
   "cell_type": "code",
   "execution_count": null,
   "metadata": {},
   "outputs": [],
   "source": []
  }
 ],
 "metadata": {
  "kernelspec": {
   "display_name": "Python 3",
   "language": "python",
   "name": "python3"
  },
  "language_info": {
   "codemirror_mode": {
    "name": "ipython",
    "version": 3
   },
   "file_extension": ".py",
   "mimetype": "text/x-python",
   "name": "python",
   "nbconvert_exporter": "python",
   "pygments_lexer": "ipython3",
   "version": "3.7.2"
  }
 },
 "nbformat": 4,
 "nbformat_minor": 2
}
