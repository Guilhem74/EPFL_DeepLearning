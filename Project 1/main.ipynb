{
 "cells": [
  {
   "cell_type": "markdown",
   "metadata": {},
   "source": [
    "The goal of this project is to implement a deep network such that, given as input a series of 2×14×14 tensor, corresponding to pairs of 14 × 14 grayscale images, it predicts for each pair if the first digit is lesser or equal to the second.\n",
    "The training and test set should be 1, 000 pairs each, and the size of the images allows to run experiments rapidly, even in the VM with a single core and no GPU.\n"
   ]
  },
  {
   "cell_type": "markdown",
   "metadata": {},
   "source": [
    "You can generate the data sets to use with the function generate_pair_sets(N) defined in the file dlc_practical_prologue.py."
   ]
  },
  {
   "cell_type": "code",
   "execution_count": 2,
   "metadata": {},
   "outputs": [],
   "source": [
    "import dlc_practical_prologue"
   ]
  },
  {
   "cell_type": "code",
   "execution_count": 9,
   "metadata": {},
   "outputs": [],
   "source": [
    "train_input, train_target, train_classes, test_input, test_target, test_classes = \\\n",
    "    dlc_practical_prologue.generate_pair_sets(100)"
   ]
  },
  {
   "cell_type": "markdown",
   "metadata": {},
   "source": [
    "|      Name     | Tensor Dimension |   Type  |                  Content                 |\n",
    "|:-------------:|:----------------:|:-------:|:----------------------------------------:|\n",
    "|  Train_input  |  N x 2 x 14 x 14 | float32 |                  Images                  |\n",
    "|  Train_target |         N        |  int64  |          Class to predict €{0,1}         |\n",
    "| Train_classes |       N x 2      |  int64  | Classes of the two digits € {0, ... ,9 } |\n",
    "|   Test_input  |  N x 2 x 14 x 14 | float32 |                  Images                  |\n",
    "|  Test_target  |         N        |  int64  |          Class to predict €{0,1}         |\n",
    "|  Test_classes |       N x 2      |  int64  | Classes of the two digits € {0, ... ,9 } |"
   ]
  },
  {
   "cell_type": "code",
   "execution_count": null,
   "metadata": {},
   "outputs": [],
   "source": []
  }
 ],
 "metadata": {
  "kernelspec": {
   "display_name": "Python 3",
   "language": "python",
   "name": "python3"
  },
  "language_info": {
   "codemirror_mode": {
    "name": "ipython",
    "version": 3
   },
   "file_extension": ".py",
   "mimetype": "text/x-python",
   "name": "python",
   "nbconvert_exporter": "python",
   "pygments_lexer": "ipython3",
   "version": "3.7.2"
  }
 },
 "nbformat": 4,
 "nbformat_minor": 2
}
