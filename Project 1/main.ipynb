{
 "cells": [
  {
   "cell_type": "code",
   "execution_count": 1,
   "metadata": {},
   "outputs": [],
   "source": [
    "import torch\n",
    "import math\n",
    "\n",
    "from torch import optim\n",
    "from torch import Tensor\n",
    "from torch.autograd import Variable\n",
    "from torch import nn\n",
    "from torch.nn import functional as F\n",
    "            "
   ]
  },
  {
   "cell_type": "markdown",
   "metadata": {},
   "source": [
    "The goal of this project is to implement a deep network such that, given as input a series of 2×14×14 tensor, corresponding to pairs of 14 × 14 grayscale images, it predicts for each pair if the first digit is lesser or equal to the second.\n",
    "\n",
    "The training and test set should be 1, 000 pairs each, and the size of the images allows to run experiments rapidly, even in the VM with a single core and no GPU.\n"
   ]
  },
  {
   "cell_type": "markdown",
   "metadata": {},
   "source": [
    "You can generate the data sets to use with the function generate_pair_sets(N) defined in the file dlc_practical_prologue.py."
   ]
  },
  {
   "cell_type": "code",
   "execution_count": 2,
   "metadata": {},
   "outputs": [],
   "source": [
    "import dlc_practical_prologue"
   ]
  },
  {
   "cell_type": "code",
   "execution_count": 3,
   "metadata": {},
   "outputs": [],
   "source": [
    "size=1000;\n",
    "train_input, train_target, train_classes, test_input, test_target, test_classes = \\\n",
    "    dlc_practical_prologue.generate_pair_sets(size)"
   ]
  },
  {
   "cell_type": "markdown",
   "metadata": {},
   "source": [
    "|      Name     | Tensor Dimension |   Type  |                  Content                 |\n",
    "|:-------------:|:----------------:|:-------:|:----------------------------------------:|\n",
    "|  Train_input  |  N x 2 x 14 x 14 | float32 |                  Images                  |\n",
    "|  Train_target |         N        |  int64  |          Class to predict €{0,1}         |\n",
    "| Train_classes |       N x 2      |  int64  | Classes of the two digits € {0, ... ,9 } |\n",
    "|   Test_input  |  N x 2 x 14 x 14 | float32 |                  Images                  |\n",
    "|  Test_target  |         N        |  int64  |          Class to predict €{0,1}         |\n",
    "|  Test_classes |       N x 2      |  int64  | Classes of the two digits € {0, ... ,9 } |"
   ]
  },
  {
   "cell_type": "markdown",
   "metadata": {},
   "source": [
    "The goal of the project is to compare different architectures, and assess the performance improvement that can be achieved through weight sharing, or using auxiliary losses.\n",
    "\n",
    "For the latter, the training can in particular take advantage of the availability of the classes of the two digits in each pair, beside the Boolean value truly of interest.\n",
    "\n",
    "All the experiments should be done with 1, 000 pairs for training and test. A convnet with ∼ 70, 000 parameters can be trained with 25 epochs in the VM in less than 2s and should achieve ∼ 15% error rate.\n",
    "\n",
    "Performance estimates provided in your report should be estimated through 10+ rounds for each architecture, where both data and weight initialization are randomized, and you should provide estimates of standard deviations.\n"
   ]
  },
  {
   "cell_type": "code",
   "execution_count": 146,
   "metadata": {},
   "outputs": [],
   "source": [
    "train_input, train_target, train_classes = Variable(train_input), Variable(train_target), Variable((train_classes))\n",
    "test_input, test_target, test_classes = Variable(test_input), Variable(test_target), Variable(test_classes)\n",
    "mini_batch_size = 10\n"
   ]
  },
  {
   "cell_type": "code",
   "execution_count": 151,
   "metadata": {},
   "outputs": [],
   "source": [
    "def train_model(model, train_input_, train_target_):\n",
    "    criterion = nn.CrossEntropyLoss()\n",
    "    optimizer = optim.SGD(model.parameters(), lr = 1e-1)\n",
    "    nb_epochs = 25\n",
    "\n",
    "    for e in range(nb_epochs):\n",
    "        sum_loss=0\n",
    "        for b in range(0, train_input_.size(0), mini_batch_size):\n",
    "            output = model(train_input_.narrow(0, b, mini_batch_size))\n",
    "            loss = criterion(Tensor.float(output[0]), train_target_.narrow(1,0,1).view(-1).narrow(0, b, mini_batch_size).long())\"\"\"Loss for Img1\"\"\"\n",
    "            sum_loss = sum_loss + loss.item()\n",
    "            model.zero_grad()\n",
    "            loss.backward()\n",
    "            optimizer.step()\n",
    "        print(e, sum_loss)\n",
    "\n"
   ]
  },
  {
   "cell_type": "code",
   "execution_count": 145,
   "metadata": {},
   "outputs": [],
   "source": [
    "def compute_nb_errors(model, data_input, data_target):\n",
    "\n",
    "    nb_data_errors = 0\n",
    "\n",
    "    for b in range(0, data_input.size(0), mini_batch_size):\n",
    "        output = model(data_input.narrow(0, b, mini_batch_size))\n",
    "        _, predicted_classes = torch.max(output[0].data, 1)\"\"\"Display error for Img1\"\"\"\n",
    "        for k in range(mini_batch_size):\n",
    "            if data_target.data[b + k] != predicted_classes[k]:\n",
    "                nb_data_errors = nb_data_errors + 1\n",
    "\n",
    "    return nb_data_errors"
   ]
  },
  {
   "cell_type": "code",
   "execution_count": 163,
   "metadata": {},
   "outputs": [],
   "source": [
    "class Weight_Sharing_Model(nn.Module):\n",
    "    def __init__(self, nb_hidden):\n",
    "        super(Weight_Sharing_Model, self).__init__()\n",
    "        \"\"\"Modele 1 for digit recognition\"\"\"\n",
    "        self.conv1 = nn.Conv2d(1, 32, kernel_size=5)\n",
    "        self.conv2 = nn.Conv2d(32, 64, kernel_size=5)\n",
    "        self.Layer1 = nn.Linear(196, nb_hidden)\n",
    "        self.Layer2 = nn.Linear(nb_hidden, 10)\n",
    "        self.Boolean_Comparison = nn.Linear(20, 1)\n",
    "\n",
    "        \"\"\"Modele 2 for digit comparison\"\"\"\n",
    "    def forward(self,input_):\n",
    "        img1=input_.narrow(1, 0,1);\n",
    "        img2=input_.narrow(1, 1,1);\n",
    "        x= F.relu(self.Layer1(img1.view(-1, 196)))\n",
    "        x = self.Layer2(x)\n",
    "        y = F.relu(self.Layer1(img2.view(-1, 196)))\n",
    "        y = self.Layer2(y)\n",
    "        Classe_X = (torch.argmax(x,1))\n",
    "        Classe_Y = (torch.argmax(y,1))\n",
    "        z=Classe_X>Classe_Y\n",
    "        \"\"\"y = F.relu(F.max_pool2d(self.conv1(img2), kernel_size=3, stride=3))\n",
    "        y = F.relu(F.max_pool2d(self.conv2(x), kernel_size=2, stride=2))\n",
    "        y = F.relu(self.fc1(x.view(-1, 256)))\n",
    "        y = self.fc2(x)\n",
    "        z=self.Boolean_Comparison()\"\"\"\n",
    "        return   x,y, z \n",
    "    "
   ]
  },
  {
   "cell_type": "code",
   "execution_count": 164,
   "metadata": {},
   "outputs": [
    {
     "name": "stdout",
     "output_type": "stream",
     "text": [
      "0 7030364.951362252\n",
      "1 229.32521414756775\n",
      "2 229.26618194580078\n",
      "3 229.26170897483826\n",
      "4 229.26201844215393\n",
      "5 325.75765323638916\n",
      "6 229.49421405792236\n",
      "7 229.4935975074768\n",
      "8 229.49406933784485\n",
      "9 229.49435925483704\n",
      "10 229.4944818019867\n",
      "11 229.4945352077484\n",
      "12 229.49455642700195\n",
      "13 229.49456644058228\n",
      "14 229.4945683479309\n",
      "15 229.49457025527954\n",
      "16 229.49457049369812\n",
      "17 229.4945685863495\n",
      "18 229.49456596374512\n",
      "19 229.4945662021637\n",
      "20 229.49456644058228\n",
      "21 229.49456548690796\n",
      "22 229.49456691741943\n",
      "23 229.49456691741943\n",
      "24 229.49456524848938\n",
      " train_error 86.90% test_error 88.50%\n"
     ]
    }
   ],
   "source": [
    "Module=Weight_Sharing_Model(200);\n",
    "\n",
    "model = Module\n",
    "\n",
    "train_model(Module, train_input, train_classes)\n",
    "print(' train_error {:.02f}% test_error {:.02f}%'.format(\n",
    "    compute_nb_errors(Module,train_input,train_classes.narrow(1,0,1).view(-1).long()) / train_input.size(0) * 100,\n",
    "    compute_nb_errors(Module,test_input,test_classes.narrow(1,0,1).view(-1).long()) / test_input.size(0) * 100\n",
    ")\n",
    ")"
   ]
  },
  {
   "cell_type": "code",
   "execution_count": 152,
   "metadata": {},
   "outputs": [
    {
     "name": "stdout",
     "output_type": "stream",
     "text": [
      "torch.Size([2, 2, 3, 3])\n",
      "torch.Size([2, 1, 3, 3])\n",
      "torch.Size([2, 1, 3, 3])\n",
      "torch.Size([2, 2, 3, 3])\n"
     ]
    }
   ],
   "source": [
    "Example=torch.tensor([[[[1, 1, 1], [1, 1, 1], [1, 1, 1]],[[2, 2, 2], [2, 2, 2],[2, 2, 2]]],[[[3, 3, 3], [3, 3, 3], [3, 3,3]],[[4, 4, 4], [4, 4, 4],[4, 4, 4]]]])\n",
    "print(Example.size())\n",
    "a1=Example.narrow(1, 0, 1);\n",
    "a2=Example.narrow(1, 1, 1);\n",
    "print(a1.size())\n",
    "print(a2.size())\n",
    "a3=torch.cat((a1,a2),1)\n",
    "print(a3.size())\n",
    "argmax\n"
   ]
  },
  {
   "cell_type": "code",
   "execution_count": 16,
   "metadata": {},
   "outputs": [],
   "source": [
    "from torchvision.transforms import ToPILImage\n",
    "import matplotlib.pyplot as plt\n",
    "to_pil = ToPILImage()\n"
   ]
  },
  {
   "cell_type": "code",
   "execution_count": 50,
   "metadata": {},
   "outputs": [
    {
     "data": {
      "text/plain": [
       "<matplotlib.image.AxesImage at 0x21906abc908>"
      ]
     },
     "execution_count": 50,
     "metadata": {},
     "output_type": "execute_result"
    },
    {
     "data": {
      "image/png": "[encoded data removed]",
      "text/plain": [
       "<Figure size 432x288 with 1 Axes>"
      ]
     },
     "metadata": {
      "needs_background": "light"
     },
     "output_type": "display_data"
    },
    {
     "data": {
      "image/png": "[encoded data removed]",
      "text/plain": [
       "<Figure size 432x288 with 1 Axes>"
      ]
     },
     "metadata": {
      "needs_background": "light"
     },
     "output_type": "display_data"
    },
    {
     "data": {
      "image/png": "[encoded data removed]",
      "text/plain": [
       "<Figure size 432x288 with 1 Axes>"
      ]
     },
     "metadata": {
      "needs_background": "light"
     },
     "output_type": "display_data"
    }
   ],
   "source": [
    "im = LOLOLO[100]# pour vérifier on prend la 102ème au pif\n",
    "Im1 = train_input[0][0] # pour vérifier on prend la 102ème au pif\n",
    "Im2 = train_input[0][1] # pour vérifier on prend la 102ème au pif\n",
    "plt.figure()\n",
    "plt.imshow(Im1) # tada !\n",
    "plt.figure()\n",
    "plt.imshow(Im2) # tada !\n",
    "plt.figure()\n",
    "plt.imshow(im) # tada !"
   ]
  },
  {
   "cell_type": "code",
   "execution_count": 25,
   "metadata": {},
   "outputs": [
    {
     "data": {
      "text/plain": [
       "<matplotlib.image.AxesImage at 0x21906217dd8>"
      ]
     },
     "execution_count": 25,
     "metadata": {},
     "output_type": "execute_result"
    },
    {
     "data": {
      "image/png": "[encoded data removed]",
      "text/plain": [
       "<Figure size 432x288 with 1 Axes>"
      ]
     },
     "metadata": {
      "needs_background": "light"
     },
     "output_type": "display_data"
    }
   ],
   "source": []
  },
  {
   "cell_type": "code",
   "execution_count": null,
   "metadata": {},
   "outputs": [],
   "source": []
  }
 ],
 "metadata": {
  "kernelspec": {
   "display_name": "Python 3",
   "language": "python",
   "name": "python3"
  },
  "language_info": {
   "codemirror_mode": {
    "name": "ipython",
    "version": 3
   },
   "file_extension": ".py",
   "mimetype": "text/x-python",
   "name": "python",
   "nbconvert_exporter": "python",
   "pygments_lexer": "ipython3",
   "version": "3.7.2"
  }
 },
 "nbformat": 4,
 "nbformat_minor": 2
}
