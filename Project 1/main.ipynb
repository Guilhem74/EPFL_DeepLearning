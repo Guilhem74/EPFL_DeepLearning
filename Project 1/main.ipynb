{
 "cells": [
  {
   "cell_type": "code",
   "execution_count": 1,
   "metadata": {},
   "outputs": [],
   "source": [
    "import torch\n",
    "import math\n",
    "\n",
    "from torch import optim\n",
    "from torch import Tensor\n",
    "from torch.autograd import Variable\n",
    "from torch import nn\n",
    "from torch.nn import functional as F\n",
    "import dlc_practical_prologue      \n",
    "size=1000;\n",
    "train_input, train_target, train_classes, test_input, test_target, test_classes = \\\n",
    "    dlc_practical_prologue.generate_pair_sets(size)\n",
    "train_input, train_target, train_classes = Variable(train_input), Variable(train_target), Variable((train_classes))\n",
    "test_input, test_target, test_classes = Variable(test_input), Variable(test_target), Variable(test_classes)\n",
    "mini_batch_size = 100\n"
   ]
  },
  {
   "cell_type": "code",
   "execution_count": 2,
   "metadata": {},
   "outputs": [],
   "source": [
    "#    Train_classes_One_Hot_IM1=dlc_practical_prologue.convert_to_one_hot_labels(train_input.narrow(1,0,1), train_classes.narrow(1,0,1))\n",
    "#    Train_classes_One_Hot_IM2=dlc_practical_prologue.convert_to_one_hot_labels(train_input.narrow(1,1,1), train_classes.narrow(1,1,1))\n"
   ]
  },
  {
   "cell_type": "markdown",
   "metadata": {},
   "source": [
    "The goal of this project is to implement a deep network such that, given as input a series of 2×14×14 tensor, corresponding to pairs of 14 × 14 grayscale images, it predicts for each pair if the first digit is lesser or equal to the second.\n",
    "\n",
    "The training and test set should be 1, 000 pairs each, and the size of the images allows to run experiments rapidly, even in the VM with a single core and no GPU.\n",
    "\n",
    "You can generate the data sets to use with the function generate_pair_sets(N) defined in the file dlc_practical_prologue.py.\n",
    "\n",
    "|      Name     | Tensor Dimension |   Type  |                  Content                 |\n",
    "|:-------------:|:----------------:|:-------:|:----------------------------------------:|\n",
    "|  Train_input  |  N x 2 x 14 x 14 | float32 |                  Images                  |\n",
    "|  Train_target |         N        |  int64  |          Class to predict €{0,1}         |\n",
    "| Train_classes |       N x 2      |  int64  | Classes of the two digits € {0, ... ,9 } |\n",
    "|   Test_input  |  N x 2 x 14 x 14 | float32 |                  Images                  |\n",
    "|  Test_target  |         N        |  int64  |          Class to predict €{0,1}         |\n",
    "|  Test_classes |       N x 2      |  int64  | Classes of the two digits € {0, ... ,9 } |\n",
    "\n",
    "The goal of the project is to compare different architectures, and assess the performance improvement that can be achieved through weight sharing, or using auxiliary losses.\n",
    "\n",
    "For the latter, the training can in particular take advantage of the availability of the classes of the two digits in each pair, beside the Boolean value truly of interest.\n",
    "\n",
    "All the experiments should be done with 1, 000 pairs for training and test. A convnet with ∼ 70, 000 parameters can be trained with 25 epochs in the VM in less than 2s and should achieve ∼ 15% error rate.\n",
    "\n",
    "Performance estimates provided in your report should be estimated through 10+ rounds for each architecture, where both data and weight initialization are randomized, and you should provide estimates of standard deviations.\n"
   ]
  },
  {
   "cell_type": "markdown",
   "metadata": {},
   "source": [
    "Model sharing weights + boolean comparison at the end :"
   ]
  },
  {
   "cell_type": "code",
   "execution_count": 28,
   "metadata": {},
   "outputs": [],
   "source": [
    "class Weight_Sharing_Model(nn.Module):\n",
    "    def __init__(self, nb_hidden):\n",
    "        super(Weight_Sharing_Model, self).__init__()\n",
    "        \"\"\"Modele 1 for digit recognition\"\"\"\n",
    "        self.conv1 = nn.Conv2d(1, 32, kernel_size=5)\n",
    "        self.conv2 = nn.Conv2d(32, 64, kernel_size=5)\n",
    "        self.Layer1 = nn.Linear(1024, nb_hidden)\n",
    "        self.Layer2 = nn.Linear(nb_hidden, 10)\n",
    "        \"\"\"Modele 2 for digit comparison\"\"\"\n",
    "    def forward(self,input_):\n",
    "        img1=input_.narrow(1, 0,1);\n",
    "        img2=input_.narrow(1, 1,1);\n",
    "        x=F.relu(F.max_pool2d(self.conv1(img1), kernel_size=2, stride=1))\n",
    "        x=F.relu(F.max_pool2d(self.conv2(x), kernel_size=2, stride=1))\n",
    "        x = F.relu(self.Layer1(x.view(-1, 1024)))\n",
    "        x = self.Layer2(x)\n",
    "        y=F.relu(F.max_pool2d(self.conv1(img2), kernel_size=2, stride=1))\n",
    "        y=F.relu(F.max_pool2d(self.conv2(y), kernel_size=2, stride=1))\n",
    "        y = F.relu(self.Layer1(y.view(-1, 1024)))\n",
    "        y = self.Layer2(y)\n",
    "        Classe_X = (torch.argmax(x,1))\n",
    "        Classe_Y = (torch.argmax(y,1))\n",
    "        z=Classe_X>Classe_Y\n",
    "        return   x,y, z \n",
    "def train_model(model, train_input_, train_target_):\n",
    "    criterion = nn.CrossEntropyLoss()\n",
    "    optimizer = optim.SGD(model.parameters(), lr = 1e-3)\n",
    "    nb_epochs = 25\n",
    "\n",
    "    for e in range(nb_epochs):\n",
    "        sum_loss=0\n",
    "        for b in range(0, train_input_.size(0), mini_batch_size):\n",
    "            output = model(train_input_.narrow(0, b, mini_batch_size))\n",
    "            loss = criterion(output[0], train_target_.narrow(0, b, mini_batch_size).narrow(1,0,1).view(-1))#Loss for Img1\n",
    "            model.zero_grad()\n",
    "            loss.backward()\n",
    "            optimizer.step()\n",
    "            \n",
    "def compute_nb_errors(model, data_input, data_target):\n",
    "    nb_data_errors = 0\n",
    "    for b in range(0, data_input.size(0), mini_batch_size):\n",
    "        output = model(data_input.narrow(0, b, mini_batch_size))\n",
    "        _, predicted_classes = torch.max(output[0].data, 1)#Display error for Img1\n",
    "        for k in range(mini_batch_size):\n",
    "            if data_target.data[b + k] != predicted_classes[k]:\n",
    "                nb_data_errors = nb_data_errors + 1\n",
    "    return nb_data_errors    "
   ]
  },
  {
   "cell_type": "markdown",
   "metadata": {},
   "source": [
    "To analyse before and after training :"
   ]
  },
  {
   "cell_type": "code",
   "execution_count": null,
   "metadata": {},
   "outputs": [],
   "source": [
    "model=Weight_Sharing_Model(200);\n",
    "output = model(train_input.narrow(0, 0, 1000))\n",
    "_, predicted_classes = torch.max(output[0].data, 1)#Display error for Img1\n",
    "#print(predicted_classes)\n",
    "print(predicted_classes)\n",
    "\n",
    "train_model(model, train_input, train_classes)\n",
    "output = model(train_input.narrow(0, 0, 1000))\n",
    "_, predicted_classes = torch.max(output[0].data, 1)#Display error for Img1\n",
    "#return   x3,y, z,img1, x2,x3,self.Layer1 \n",
    "#         0  1  2  3    4   5  6\n",
    "print(predicted_classes)"
   ]
  },
  {
   "cell_type": "raw",
   "metadata": {},
   "source": [
    "To test and measure error"
   ]
  },
  {
   "cell_type": "code",
   "execution_count": 29,
   "metadata": {},
   "outputs": [
    {
     "name": "stdout",
     "output_type": "stream",
     "text": [
      " train_error 2.70% test_error 12.50%\n",
      " train_error 87.00% test_error 88.60%\n",
      " train_error 28.10% test_error 30.60%\n",
      " train_error 79.60% test_error 84.50%\n",
      " train_error 91.80% test_error 90.50%\n",
      " train_error 91.80% test_error 90.50%\n"
     ]
    }
   ],
   "source": [
    "for std in [ -1, 1e-3, 1e-2, 1e-1, 1e-0, 1e1 ]:\n",
    "\n",
    "    model=Weight_Sharing_Model(200);\n",
    "\n",
    "    \n",
    "    if std > 0:\n",
    "            for p in model.parameters(): p.data.normal_(0, std)\n",
    "    train_model(model, train_input, train_classes)\n",
    "    print(' train_error {:.02f}% test_error {:.02f}%'.format(\n",
    "        compute_nb_errors(model,train_input,train_classes.narrow(1,0,1).view(-1).long()) / train_input.size(0) * 100,\n",
    "        compute_nb_errors(model,test_input,test_classes.narrow(1,0,1).view(-1).long()) / test_input.size(0) * 100\n",
    "    )\n",
    "    )\n"
   ]
  },
  {
   "cell_type": "raw",
   "metadata": {},
   "source": [
    "Size of each layer :"
   ]
  },
  {
   "cell_type": "code",
   "execution_count": 17,
   "metadata": {},
   "outputs": [
    {
     "name": "stdout",
     "output_type": "stream",
     "text": [
      "torch.Size([32, 1, 5, 5])\n",
      "torch.Size([32])\n",
      "torch.Size([64, 32, 5, 5])\n",
      "torch.Size([64])\n",
      "torch.Size([200, 1024])\n",
      "torch.Size([200])\n",
      "torch.Size([10, 200])\n",
      "torch.Size([10])\n"
     ]
    }
   ],
   "source": [
    "for k in model.parameters():\n",
    "    print(k.size())"
   ]
  },
  {
   "cell_type": "raw",
   "metadata": {},
   "source": [
    "To display an image "
   ]
  },
  {
   "cell_type": "code",
   "execution_count": 12,
   "metadata": {},
   "outputs": [
    {
     "data": {
      "text/plain": [
       "<Figure size 432x288 with 0 Axes>"
      ]
     },
     "execution_count": 12,
     "metadata": {},
     "output_type": "execute_result"
    },
    {
     "data": {
      "image/png": "[encoded data removed]",
      "text/plain": [
       "<Figure size 432x288 with 1 Axes>"
      ]
     },
     "metadata": {
      "needs_background": "light"
     },
     "output_type": "display_data"
    },
    {
     "data": {
      "image/png": "[encoded data removed]",
      "text/plain": [
       "<Figure size 432x288 with 1 Axes>"
      ]
     },
     "metadata": {
      "needs_background": "light"
     },
     "output_type": "display_data"
    },
    {
     "data": {
      "text/plain": [
       "<Figure size 432x288 with 0 Axes>"
      ]
     },
     "metadata": {},
     "output_type": "display_data"
    }
   ],
   "source": [
    "from torchvision.transforms import ToPILImage\n",
    "import matplotlib.pyplot as plt\n",
    "to_pil = ToPILImage()\n",
    "\n",
    "Im1 = train_input[0][0] # pour vérifier on prend la 102ème au pif\n",
    "Im2 = train_input[0][1] # pour vérifier on prend la 102ème au pif\n",
    "plt.figure()\n",
    "plt.imshow(Im1) # tada !\n",
    "plt.figure()\n",
    "plt.imshow(Im2) # tada !\n",
    "plt.figure()\n"
   ]
  },
  {
   "cell_type": "code",
   "execution_count": null,
   "metadata": {},
   "outputs": [],
   "source": []
  }
 ],
 "metadata": {
  "kernelspec": {
   "display_name": "Python 3",
   "language": "python",
   "name": "python3"
  },
  "language_info": {
   "codemirror_mode": {
    "name": "ipython",
    "version": 3
   },
   "file_extension": ".py",
   "mimetype": "text/x-python",
   "name": "python",
   "nbconvert_exporter": "python",
   "pygments_lexer": "ipython3",
   "version": "3.7.2"
  }
 },
 "nbformat": 4,
 "nbformat_minor": 2
}
