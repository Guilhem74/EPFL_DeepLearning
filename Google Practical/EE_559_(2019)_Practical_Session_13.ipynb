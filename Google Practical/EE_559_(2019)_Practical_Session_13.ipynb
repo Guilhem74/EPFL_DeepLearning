{
 "cells": [
  {
   "cell_type": "markdown",
   "metadata": {
    "colab_type": "text",
    "id": "BvkIGwGFr2ci"
   },
   "source": [
    "This Colab is the practical part of the 13th Session \"TensorFlow Introduction\" (guest lecture by Andreas Steiner) in François Fleuret's Deep Learning Course (https://fleuret.org/ee559)\n",
    "\n",
    "Please refer to the handout for instructions about the exercises:\n",
    "\n",
    "https://docs.google.com/document/d/1dWLM0bRu0qW_B2cKJSisZghUBQ-x-ZBE19TWKmvv_hQ"
   ]
  },
  {
   "cell_type": "markdown",
   "metadata": {
    "colab_type": "text",
    "id": "JndnmDMp66FL"
   },
   "source": [
    "##### Copyright 2019 Google LLC.\n",
    "\n",
    "Licensed under the Apache License, Version 2.0 (the \"License\");"
   ]
  },
  {
   "cell_type": "code",
   "execution_count": null,
   "metadata": {
    "cellView": "code",
    "colab": {},
    "colab_type": "code",
    "id": "hMqWDc_m6rUC"
   },
   "outputs": [],
   "source": [
    "# Licensed under the Apache License, Version 2.0 (the \"License\");\n",
    "# you may not use this file except in compliance with the License.\n",
    "# You may obtain a copy of the License at\n",
    "#\n",
    "# https://www.apache.org/licenses/LICENSE-2.0\n",
    "#\n",
    "# Unless required by applicable law or agreed to in writing, software\n",
    "# distributed under the License is distributed on an \"AS IS\" BASIS,\n",
    "# WITHOUT WARRANTIES OR CONDITIONS OF ANY KIND, either express or implied.\n",
    "# See the License for the specific language governing permissions and\n",
    "# limitations under the License."
   ]
  },
  {
   "cell_type": "markdown",
   "metadata": {
    "colab_type": "text",
    "id": "7Q8g2GTn32AR"
   },
   "source": [
    "# 0 Setup"
   ]
  },
  {
   "cell_type": "markdown",
   "metadata": {
    "colab_type": "text",
    "id": "sfqC7r_kIIeQ"
   },
   "source": [
    "## 0.1 Authenticate\n",
    "\n",
    "We need to access both GCS (Google cloud storage) for getting the prepared QuickDraw data and Google Drive for storing data beyond the short lifetime of the virtual machine running the kernel for this Colab.\n",
    "\n",
    "Below cell runs the authentication workflow for both GCS & Drive. Needs to be re-executed every time the VM is restarted."
   ]
  },
  {
   "cell_type": "code",
   "execution_count": null,
   "metadata": {
    "colab": {
     "base_uri": "https://localhost:8080/",
     "height": 122
    },
    "colab_type": "code",
    "id": "GBkULW3YIKf3",
    "outputId": "7b1b0d8c-d271-4691-e998-83741124bca2"
   },
   "outputs": [
    {
     "name": "stdout",
     "output_type": "stream",
     "text": [
      "Go to this URL in a browser: https://accounts.google.com/o/oauth2/auth?client_id=947318989803-6bn6qk8qdgf4n4g3pfee6491hc0brc4i.apps.googleusercontent.com&redirect_uri=urn%3Aietf%3Awg%3Aoauth%3A2.0%3Aoob&scope=email%20https%3A%2F%2Fwww.googleapis.com%2Fauth%2Fdocs.test%20https%3A%2F%2Fwww.googleapis.com%2Fauth%2Fdrive%20https%3A%2F%2Fwww.googleapis.com%2Fauth%2Fdrive.photos.readonly%20https%3A%2F%2Fwww.googleapis.com%2Fauth%2Fpeopleapi.readonly&response_type=code\n",
      "\n",
      "Enter your authorization code:\n",
      "··········\n",
      "Mounted at /content/gdrive\n"
     ]
    }
   ],
   "source": [
    "from google.colab import auth\n",
    "auth.authenticate_user()\n",
    "\n",
    "from google.colab import drive\n",
    "drive.mount('/content/gdrive')"
   ]
  },
  {
   "cell_type": "markdown",
   "metadata": {
    "colab_type": "text",
    "id": "3knFMfGhxh_d"
   },
   "source": [
    "## 0.2 Install & import\n",
    "\n",
    "By default, TensorFlow 1.13 is installed. But we're going to use the alpha version of TensorFlow 2.0 which first needs to be installed on the machine."
   ]
  },
  {
   "cell_type": "code",
   "execution_count": null,
   "metadata": {
    "colab": {
     "base_uri": "https://localhost:8080/",
     "height": 459
    },
    "colab_type": "code",
    "id": "UzjHkgoMap24",
    "outputId": "37b36ba4-fcea-44a6-c82f-906334170c1d"
   },
   "outputs": [
    {
     "name": "stdout",
     "output_type": "stream",
     "text": [
      "Created temporary directory: /tmp/pip-ephem-wheel-cache-vvm6fh3_\n",
      "Created temporary directory: /tmp/pip-req-tracker-cv4k87le\n",
      "Created requirements tracker '/tmp/pip-req-tracker-cv4k87le'\n",
      "Created temporary directory: /tmp/pip-install-rys14025\n",
      "Requirement already satisfied: tf-nightly-gpu-2.0-preview in /usr/local/lib/python3.6/dist-packages (2.0.0.dev20190521)\n",
      "Requirement already satisfied: tb-nightly<1.15.0a0,>=1.14.0a0 in /usr/local/lib/python3.6/dist-packages (from tf-nightly-gpu-2.0-preview) (1.14.0a20190521)\n",
      "Requirement already satisfied: six>=1.10.0 in /usr/local/lib/python3.6/dist-packages (from tf-nightly-gpu-2.0-preview) (1.12.0)\n",
      "Requirement already satisfied: wheel>=0.26 in /usr/local/lib/python3.6/dist-packages (from tf-nightly-gpu-2.0-preview) (0.33.4)\n",
      "Requirement already satisfied: tensorflow-estimator-2.0-preview in /usr/local/lib/python3.6/dist-packages (from tf-nightly-gpu-2.0-preview) (1.14.0.dev2019052100)\n",
      "Requirement already satisfied: astor>=0.6.0 in /usr/local/lib/python3.6/dist-packages (from tf-nightly-gpu-2.0-preview) (0.7.1)\n",
      "Requirement already satisfied: gast>=0.2.0 in /usr/local/lib/python3.6/dist-packages (from tf-nightly-gpu-2.0-preview) (0.2.2)\n",
      "Requirement already satisfied: keras-applications>=1.0.6 in /usr/local/lib/python3.6/dist-packages (from tf-nightly-gpu-2.0-preview) (1.0.7)\n",
      "Requirement already satisfied: absl-py>=0.7.0 in /usr/local/lib/python3.6/dist-packages (from tf-nightly-gpu-2.0-preview) (0.7.1)\n",
      "Requirement already satisfied: termcolor>=1.1.0 in /usr/local/lib/python3.6/dist-packages (from tf-nightly-gpu-2.0-preview) (1.1.0)\n",
      "Requirement already satisfied: wrapt>=1.11.1 in /usr/local/lib/python3.6/dist-packages (from tf-nightly-gpu-2.0-preview) (1.11.1)\n",
      "Requirement already satisfied: protobuf>=3.6.1 in /usr/local/lib/python3.6/dist-packages (from tf-nightly-gpu-2.0-preview) (3.7.1)\n",
      "Requirement already satisfied: grpcio>=1.8.6 in /usr/local/lib/python3.6/dist-packages (from tf-nightly-gpu-2.0-preview) (1.15.0)\n",
      "Requirement already satisfied: keras-preprocessing>=1.0.5 in /usr/local/lib/python3.6/dist-packages (from tf-nightly-gpu-2.0-preview) (1.0.9)\n",
      "Requirement already satisfied: numpy<2.0,>=1.14.5 in /usr/local/lib/python3.6/dist-packages (from tf-nightly-gpu-2.0-preview) (1.16.3)\n",
      "Requirement already satisfied: google-pasta>=0.1.6 in /usr/local/lib/python3.6/dist-packages (from tf-nightly-gpu-2.0-preview) (0.1.6)\n",
      "Requirement already satisfied: werkzeug>=0.11.15 in /usr/local/lib/python3.6/dist-packages (from tb-nightly<1.15.0a0,>=1.14.0a0->tf-nightly-gpu-2.0-preview) (0.15.4)\n",
      "Requirement already satisfied: markdown>=2.6.8 in /usr/local/lib/python3.6/dist-packages (from tb-nightly<1.15.0a0,>=1.14.0a0->tf-nightly-gpu-2.0-preview) (3.1)\n",
      "Requirement already satisfied: h5py in /usr/local/lib/python3.6/dist-packages (from keras-applications>=1.0.6->tf-nightly-gpu-2.0-preview) (2.8.0)\n",
      "Requirement already satisfied: setuptools in /usr/local/lib/python3.6/dist-packages (from protobuf>=3.6.1->tf-nightly-gpu-2.0-preview) (41.0.1)\n",
      "Cleaning up...\n",
      "Removed build tracker '/tmp/pip-req-tracker-cv4k87le'\n"
     ]
    }
   ],
   "source": [
    "# Let's install GPU that runs fine on both CPU and GPU.\n",
    "!pip install tf-nightly-gpu-2.0-preview --verbose"
   ]
  },
  {
   "cell_type": "code",
   "execution_count": null,
   "metadata": {
    "colab": {
     "base_uri": "https://localhost:8080/",
     "height": 34
    },
    "colab_type": "code",
    "id": "JzMYG9DXac92",
    "outputId": "bea36440-e1ef-49de-9623-ecf2ee40e509"
   },
   "outputs": [
    {
     "data": {
      "text/plain": [
       "('2.0.0-dev20190521', True, False)"
      ]
     },
     "execution_count": 4,
     "metadata": {
      "tags": []
     },
     "output_type": "execute_result"
    }
   ],
   "source": [
    "import tensorflow as tf\n",
    "import os\n",
    "if int(tf.__version__.split('.')[0]) < 2:\n",
    "    tf.enable_eager_execution()\n",
    "(tf.__version__, tf.test.is_gpu_available(), 'COLAB_TPU_ADDR' in os.environ)"
   ]
  },
  {
   "cell_type": "code",
   "execution_count": null,
   "metadata": {
    "colab": {},
    "colab_type": "code",
    "id": "qCKwIEmrbzQt"
   },
   "outputs": [],
   "source": [
    "import json, os, time\n",
    "\n",
    "from matplotlib import pyplot as plt\n",
    "import numpy as np\n",
    "\n",
    "# We will store models on Drive.\n",
    "models_path = '/content/gdrive/My Drive/ee559/session13/models'"
   ]
  },
  {
   "cell_type": "markdown",
   "metadata": {
    "colab_type": "text",
    "id": "FAOJ3HzkwOym"
   },
   "source": [
    "# 1 Colab\n",
    "\n",
    "If you use Python on a regular basis, you're probably already familiar with [Jupyter Notebook](https://jupyter.org/). Colab is a basically a Jupyter notebook in the cloud : the notebook itself is stored as a Google doc (with revision history, access control, comments, and concurrent editing) and the Python kernel runs in a dynamically allocated virtual machine on Google cloud.\n",
    "\n",
    "The web UI is also somewhat improved, including a left-hand drawer with table of contents, snippets, and remote file browser. There are also custom extensions, \"forms\" and much more."
   ]
  },
  {
   "cell_type": "markdown",
   "metadata": {
    "colab_type": "text",
    "id": "Din_y8YSwPZ3"
   },
   "source": [
    "## 1.1 Important shortcuts\n",
    "\n",
    "Action | Colab Shortcut | Jupyter Shortcut\n",
    "---|---|---\n",
    "Executes current cell | `<CTRL-ENTER>` | `<CTRL-ENTER>`\n",
    "Executes current cell and moves to next cell | `<SHIFT-ENTER>` | `<SHIFT-ENTER>`\n",
    "Insert cell above | `<CTRL-M> <A>` | `<A>`\n",
    "Append cell below | `<CTRL-M> <B>` | `<B>`\n",
    "Shows searchable command palette | `<CTRL-SHIFT-P>` | `<CTRL-SHIFT-P>`\n",
    "Convert cell to code | `<CTRL-M> <Y>` | `<Y>`\n",
    "Convert cell to Markdown | `<CTRL-M> <M>` | `<M>`\n",
    "Autocomplete | `<TAB>` | `<TAB>`\n",
    "Goes from edit to \"command\" mode | `<ESC>` | `<ESC>`\n",
    "Goes from \"command\" to edit mode | `<ENTER>` | `<ENTER>`\n",
    "Show keyboard shortcuts | `<CTRL-M> <H>` | `<H>`\n",
    "<p align=\"center\"><b>Note:</b> On OS X you can use `<COMMAND>` instead of `<CTRL>`</p>\n",
    "\n",
    "Give it a try!"
   ]
  },
  {
   "cell_type": "markdown",
   "metadata": {
    "colab_type": "text",
    "id": "5JNFoJ7XAYai"
   },
   "source": [
    "## 1.1 API documentation"
   ]
  },
  {
   "cell_type": "code",
   "execution_count": null,
   "metadata": {
    "colab": {},
    "colab_type": "code",
    "id": "5RWqC8rzAaXK"
   },
   "outputs": [],
   "source": [
    "# Place the caret inside the parens and hit <TAB> to get a popover displaying\n",
    "# the API documentation. So useful it merits its very own section in this Colab.\n",
    "tf.GradientTape()"
   ]
  },
  {
   "cell_type": "markdown",
   "metadata": {
    "colab_type": "text",
    "id": "_mahgn1AHL61"
   },
   "source": [
    "## 1.2 About runtimes\n",
    "\n",
    "Colab provides multiple runtimes with different hardware accelerators:\n",
    "\n",
    "*   CPU (default)\n",
    "*   GPU\n",
    "*   TPU\n",
    "\n",
    "which can be selected by choosing the `\"Runtime\"` tab above and then `\"Change runtime type\"`.\n",
    "\n",
    "Please be aware that selecting a new runtime will assign a new virtual machine (VM).\n",
    "In general, assume that any changes you make to the VM environment including data storage are **ephemeral**. Particularly, this might require to **execute previous cells again** as their content is unknown to a new runtime otherwise. \n",
    "\n",
    "Let's take a closer look at one of such provided VMs.\n"
   ]
  },
  {
   "cell_type": "code",
   "execution_count": null,
   "metadata": {
    "colab": {
     "base_uri": "https://localhost:8080/",
     "height": 34
    },
    "colab_type": "code",
    "id": "AwLSimGKgHFd",
    "outputId": "ea40d171-f270-47b6-e368-524344c2d96e"
   },
   "outputs": [
    {
     "name": "stdout",
     "output_type": "stream",
     "text": [
      " 07:27:18 up 17 min,  0 users,  load average: 0.01, 0.07, 0.08\n"
     ]
    }
   ],
   "source": [
    "# Display how long the system has been running.\n",
    "!uptime"
   ]
  },
  {
   "cell_type": "code",
   "execution_count": null,
   "metadata": {
    "colab": {
     "base_uri": "https://localhost:8080/",
     "height": 802
    },
    "colab_type": "code",
    "id": "saP-n9oMwdyF",
    "outputId": "19d5639e-f07d-492d-82fe-e889d1420622"
   },
   "outputs": [
    {
     "name": "stdout",
     "output_type": "stream",
     "text": [
      "              total        used        free      shared  buff/cache   available\n",
      "Mem:            12G        764M        5.8G        4.9M        6.1G         11G\n",
      "Swap:            0B          0B          0B\n",
      "----------------------------------------------------------------------\n",
      "Architecture:        x86_64\n",
      "CPU op-mode(s):      32-bit, 64-bit\n",
      "Byte Order:          Little Endian\n",
      "CPU(s):              2\n",
      "On-line CPU(s) list: 0,1\n",
      "Thread(s) per core:  2\n",
      "Core(s) per socket:  1\n",
      "Socket(s):           1\n",
      "NUMA node(s):        1\n",
      "Vendor ID:           GenuineIntel\n",
      "CPU family:          6\n",
      "Model:               63\n",
      "Model name:          Intel(R) Xeon(R) CPU @ 2.30GHz\n",
      "Stepping:            0\n",
      "CPU MHz:             2300.000\n",
      "BogoMIPS:            4600.00\n",
      "Hypervisor vendor:   KVM\n",
      "Virtualization type: full\n",
      "L1d cache:           32K\n",
      "L1i cache:           32K\n",
      "L2 cache:            256K\n",
      "L3 cache:            46080K\n",
      "NUMA node0 CPU(s):   0,1\n",
      "Flags:               fpu vme de pse tsc msr pae mce cx8 apic sep mtrr pge mca cmov pat pse36 clflush mmx fxsr sse sse2 ss ht syscall nx pdpe1gb rdtscp lm constant_tsc rep_good nopl xtopology nonstop_tsc cpuid tsc_known_freq pni pclmulqdq ssse3 fma cx16 pcid sse4_1 sse4_2 x2apic movbe popcnt aes xsave avx f16c rdrand hypervisor lahf_lm abm invpcid_single pti ssbd ibrs ibpb stibp fsgsbase tsc_adjust bmi1 avx2 smep bmi2 erms invpcid xsaveopt arat arch_capabilities\n",
      "----------------------------------------------------------------------\n",
      "Wed May 22 07:27:40 2019       \n",
      "+-----------------------------------------------------------------------------+\n",
      "| NVIDIA-SMI 418.67       Driver Version: 410.79       CUDA Version: 10.0     |\n",
      "|-------------------------------+----------------------+----------------------+\n",
      "| GPU  Name        Persistence-M| Bus-Id        Disp.A | Volatile Uncorr. ECC |\n",
      "| Fan  Temp  Perf  Pwr:Usage/Cap|         Memory-Usage | GPU-Util  Compute M. |\n",
      "|===============================+======================+======================|\n",
      "|   0  Tesla T4            Off  | 00000000:00:04.0 Off |                    0 |\n",
      "| N/A   58C    P0    29W /  70W |    130MiB / 15079MiB |      0%      Default |\n",
      "+-------------------------------+----------------------+----------------------+\n",
      "                                                                               \n",
      "+-----------------------------------------------------------------------------+\n",
      "| Processes:                                                       GPU Memory |\n",
      "|  GPU       PID   Type   Process name                             Usage      |\n",
      "|=============================================================================|\n",
      "+-----------------------------------------------------------------------------+\n"
     ]
    }
   ],
   "source": [
    "# Display available and used memory.\n",
    "!free -h\n",
    "print(\"-\"*70)\n",
    "# Display the CPU specification.\n",
    "!lscpu\n",
    "print(\"-\"*70)\n",
    "# Display the GPU specification (if available).\n",
    "!(nvidia-smi | grep -q \"has failed\") && echo \"No GPU found!\" || nvidia-smi "
   ]
  },
  {
   "cell_type": "markdown",
   "metadata": {
    "colab_type": "text",
    "id": "NSeWPxoz9B4j"
   },
   "source": [
    "## 1.3 Start TensorBoard & tunnel\n",
    "\n",
    "We can start arbitrary programs in our VM. One particularly interesting program is [TensorBoard](https://www.tensorflow.org/guide/summaries_and_tensorboard) allows to track metrics during training (and much more).\n",
    "\n",
    "Unfortunately, the VM's ports cannot be accessed directly from the web, so we have to tunnel them via a service. The example below uses https://ngrok.com/ whose utility first must be downloaded."
   ]
  },
  {
   "cell_type": "code",
   "execution_count": null,
   "metadata": {
    "colab": {
     "base_uri": "https://localhost:8080/",
     "height": 255
    },
    "colab_type": "code",
    "id": "KflbtzMLckFt",
    "outputId": "79f99f3b-663d-42c3-ff48-94f89ccd1851"
   },
   "outputs": [
    {
     "name": "stdout",
     "output_type": "stream",
     "text": [
      "--2019-05-22 07:28:21--  https://bin.equinox.io/c/4VmDzA7iaHb/ngrok-stable-linux-amd64.zip\n",
      "Resolving bin.equinox.io (bin.equinox.io)... 52.86.186.182, 34.196.237.103, 52.3.53.115, ...\n",
      "Connecting to bin.equinox.io (bin.equinox.io)|52.86.186.182|:443... connected.\n",
      "HTTP request sent, awaiting response... 200 OK\n",
      "Length: 16648024 (16M) [application/octet-stream]\n",
      "Saving to: ‘ngrok-stable-linux-amd64.zip’\n",
      "\n",
      "ngrok-stable-linux- 100%[===================>]  15.88M  15.4MB/s    in 1.0s    \n",
      "\n",
      "2019-05-22 07:28:22 (15.4 MB/s) - ‘ngrok-stable-linux-amd64.zip’ saved [16648024/16648024]\n",
      "\n",
      "Archive:  ngrok-stable-linux-amd64.zip\n",
      "  inflating: ngrok                   \n",
      "-rwxr-xr-x 1 root root 34M May 19 10:07 ./ngrok\n"
     ]
    }
   ],
   "source": [
    "# Download & unzip ngrok\n",
    "!wget https://bin.equinox.io/c/4VmDzA7iaHb/ngrok-stable-linux-amd64.zip\n",
    "!unzip -o ngrok-stable-linux-amd64.zip\n",
    "!ls -lh ./ngrok"
   ]
  },
  {
   "cell_type": "code",
   "execution_count": 66,
   "metadata": {
    "colab": {
     "base_uri": "https://localhost:8080/",
     "height": 34
    },
    "colab_type": "code",
    "id": "Gt66EpxiGb5F",
    "outputId": "d4e38068-fa89-4321-e245-7f655b005e6d"
   },
   "outputs": [
    {
     "name": "stdout",
     "output_type": "stream",
     "text": [
      "http://b1fb58e8.ngrok.io\n"
     ]
    }
   ],
   "source": [
    "# This cell (re)starts TensorBoard & forward the port using ngrok.\n",
    "\n",
    "# Stop previously started processes, if any.\n",
    "!pkill tensorboard; pkill ngrok\n",
    "# Make sure ngrok was installed locally in previous cell.\n",
    "assert os.system('./ngrok --help') == 0\n",
    "# Start TensorBoard.\n",
    "get_ipython().system_raw(\n",
    "    'tensorboard --logdir \"./tensorboard\" --host 0.0.0.0 --port 6006 &'\n",
    ")\n",
    "# Forward port.\n",
    "get_ipython().system_raw('./ngrok http 6006 &')\n",
    "# Give some time to start up.\n",
    "!sleep 1\n",
    "# Output external address (ngrok's web interface listens at 4004).\n",
    "!curl -s http://localhost:4040/api/tunnels | python3 -c \"import sys, json; print(json.load(sys.stdin)['tunnels'][0]['public_url'])\""
   ]
  },
  {
   "cell_type": "markdown",
   "metadata": {
    "colab_type": "text",
    "id": "X9nnz_0b9OG4"
   },
   "source": [
    "Note that you can also start this process in a separate Colab running on the same VM : Create a new Colab \"File/New Python 3 Notebook\" copy above cell and paste it into the new Colab. Since both Colabs run in the same VM (unless they have a different setting \"Runtime/Change runtime type\") you don't need to download ngrok, it is already in the current working directory."
   ]
  },
  {
   "cell_type": "markdown",
   "metadata": {
    "colab_type": "text",
    "id": "hNXXTWiMA8hn"
   },
   "source": [
    "### 1.4 More ...\n",
    "\n",
    "We've only covered the very basics about Colab in above sections. If you're interested in knowing more, please check out the Colab [0_colab.ipynb](https://colab.research.google.com/github/tensorflow/workshops/blob/master/extras/amld/notebooks/solutions/0_colab.ipynb) from the AMLD workshop, or walk through some of the example Colabs (File/Open -> select from \"Examples\" tab).\n",
    "\n",
    "(But try not to spend more than 10 minutes overall in this \"Colab\" section)"
   ]
  },
  {
   "cell_type": "markdown",
   "metadata": {
    "colab_type": "text",
    "id": "lWG6zleTcDJr"
   },
   "source": [
    "# 2 Predicting QuickDraw\n",
    "\n",
    "In this section we will train some simple models on [QuickDraw data](https://quickdraw.withgoogle.com/data/). The purpose is to familiarize you with basic TensorFlow API and Keras, so you can come back to these examples later on and use them as a skeleton when building your own models.\n",
    "\n",
    "The code is a short summary the following AMLD Workshop notebooks - go there for more in depth examples:\n",
    "\n",
    "https://colab.research.google.com/github/tensorflow/workshops/blob/master/extras/amld/notebooks/solutions/1_data.ipynb\n",
    "\n",
    "https://colab.research.google.com/github/tensorflow/workshops/blob/master/extras/amld/notebooks/solutions/2_keras.ipynb\n",
    "\n",
    "https://colab.research.google.com/github/tensorflow/workshops/blob/master/extras/amld/notebooks/solutions/3_eager.ipynb\n",
    "\n",
    "https://colab.research.google.com/github/tensorflow/workshops/blob/master/extras/amld/notebooks/solutions/4_predict.ipynb\n",
    "\n",
    "(Be aware that those notebooks are still using TensorFlow 1.13)"
   ]
  },
  {
   "cell_type": "markdown",
   "metadata": {
    "colab_type": "text",
    "id": "vLGR9_iauMbO"
   },
   "source": [
    "## 2.1 Read data\n",
    "\n",
    "Today we're using a prepared dataset in [protocol buffer](https://developers.google.com/protocol-buffers/docs/pythontutorial) format on Cloud. Preparing your own data is an interesting topic and described in some length in the [AMLD workshop](https://github.com/tensorflow/workshops/tree/master/extras/amld).\n",
    "\n",
    "If you want to play around with other data you should first check out the [list of  datasets](https://www.tensorflow.org/datasets/datasets)."
   ]
  },
  {
   "cell_type": "code",
   "execution_count": null,
   "metadata": {
    "colab": {
     "base_uri": "https://localhost:8080/",
     "height": 34
    },
    "colab_type": "code",
    "id": "5pYTumpFcFZa",
    "outputId": "f337aded-dcab-4cac-e697-83be48705cdf"
   },
   "outputs": [
    {
     "name": "stdout",
     "output_type": "stream",
     "text": [
      "https://console.cloud.google.com/storage/browser/amld-datasets/zoo_img_50k\n"
     ]
    }
   ],
   "source": [
    "# Let's use a relatively small dataset with only 11 classes for developing our\n",
    "# models. We will move to a larger set for the Sock Competition.\n",
    "# - 50k training examples, including pickled DataFrame\n",
    "data_path = 'gs://amld-datasets/zoo_img_50k'\n",
    "\n",
    "print('https://console.cloud.google.com/storage/browser/' + data_path.split('//')[1])"
   ]
  },
  {
   "cell_type": "code",
   "execution_count": null,
   "metadata": {
    "colab": {
     "base_uri": "https://localhost:8080/",
     "height": 51
    },
    "colab_type": "code",
    "id": "tky2lNdsxrLz",
    "outputId": "4f643915-52ba-4f69-e07b-36f3f40bcfba"
   },
   "outputs": [
    {
     "name": "stdout",
     "output_type": "stream",
     "text": [
      "All labels in the dataset: camel crocodile dolphin elephant flamingo giraffe kangaroo lion monkey penguin rhinoceros\n",
      "Splits sizes: {'eval': 10000, 'test': 20000, 'train': 50000}\n"
     ]
    }
   ],
   "source": [
    "# Labels are represented as integers in these examples. The \"labels.txt\" files\n",
    "# translates these integers to descriptive words.\n",
    "labels = [label.strip() for label in tf.io.gfile.GFile('{}/labels.txt'.format(data_path))]\n",
    "print('All labels in the dataset:', ' '.join(labels))\n",
    "\n",
    "# The examples re stored in a format that simply concatenates records one by\n",
    "# one. There is no information about the number of records contained. That\n",
    "# information was stored separately after generation in the \"counts.json\".\n",
    "counts = json.load(tf.io.gfile.GFile('{}/counts.json'.format(data_path)))\n",
    "print(\"Splits sizes:\", counts)"
   ]
  },
  {
   "cell_type": "code",
   "execution_count": null,
   "metadata": {
    "colab": {
     "base_uri": "https://localhost:8080/",
     "height": 34
    },
    "colab_type": "code",
    "id": "cJOGzXJpyJkq",
    "outputId": "2fa84d6b-7385-4543-9264-ca47c417b2f6"
   },
   "outputs": [
    {
     "data": {
      "text/plain": [
       "(500, 100)"
      ]
     },
     "execution_count": 12,
     "metadata": {
      "tags": []
     },
     "output_type": "execute_result"
    }
   ],
   "source": [
    "# This dictionary describes which features to read from the protocol buffer.\n",
    "# The protocol buffers contain additional features that we don't need below.\n",
    "feature_spec = {\n",
    "    # The label is a single number (referring to names in \"labels.txt\").\n",
    "    'label': tf.io.FixedLenFeature(shape=(), dtype=tf.int64),\n",
    "    # The images are stored as a list of numbers of type int64. Here we can\n",
    "    # specify to reshape the list on reading to a tensor of shape [64, 64].\n",
    "    'img_64': tf.io.FixedLenFeature(shape=[64, 64], dtype=tf.int64),\n",
    "}\n",
    "\n",
    "def parse_record(serialized_example):\n",
    "    features = tf.io.parse_single_example(serialized_example, feature_spec)\n",
    "    return (\n",
    "        tf.cast(features['img_64'], tf.float32) / 255,\n",
    "        tf.one_hot(features['label'], len(labels)),\n",
    "    )\n",
    "\n",
    "def make_ds(which, batch_size=100):\n",
    "    # The tf.io.gfile module provides transparent access to files on Gogole Cloud\n",
    "    # Storage (GCS).\n",
    "    ds = tf.data.TFRecordDataset(tf.io.gfile.glob('{}/{}-*'.format(data_path, which)))\n",
    "    ds = ds.map(parse_record).batch(batch_size)\n",
    "    return ds, counts[which] // batch_size\n",
    "\n",
    "ds_train, train_steps = make_ds('train')\n",
    "# Note that preloading the training shuffle buffer adds some latency when\n",
    "# accessing the data (you can try below cells without shuffling for comparison).\n",
    "ds_train = ds_train.shuffle(buffer_size=1000).repeat()\n",
    "ds_eval, eval_steps = make_ds('eval')\n",
    "\n",
    "# So we have:\n",
    "# Nr of examples in {train,eval} set = batch_size * {train,eval}_steps.\n",
    "\n",
    "train_steps, eval_steps"
   ]
  },
  {
   "cell_type": "code",
   "execution_count": null,
   "metadata": {
    "colab": {
     "base_uri": "https://localhost:8080/",
     "height": 34
    },
    "colab_type": "code",
    "id": "D7fP_bDzzAyi",
    "outputId": "be91f89d-808f-4921-812c-c0c2b933662c"
   },
   "outputs": [
    {
     "data": {
      "text/plain": [
       "(TensorShape([100, 64, 64]), TensorShape([100, 11]))"
      ]
     },
     "execution_count": 13,
     "metadata": {
      "tags": []
     },
     "output_type": "execute_result"
    }
   ],
   "source": [
    "# The dataset is iterable. Every iteration returns a batch of tensors parsed\n",
    "# from a batch of tf.Example records. We only return the img_64 feature (x)\n",
    "# and the one-hot encoded label (y) - see return value of parse_record().\n",
    "for x, y in ds_train:\n",
    "    break\n",
    "x.shape, y.shape"
   ]
  },
  {
   "cell_type": "code",
   "execution_count": null,
   "metadata": {
    "colab": {
     "base_uri": "https://localhost:8080/",
     "height": 389
    },
    "colab_type": "code",
    "id": "94Ap0LKY0Gxi",
    "outputId": "0bb3fd9c-c402-4542-b4bf-e403ccb9be87"
   },
   "outputs": [
    {
     "data": {
      "image/png": "[encoded data removed]",
      "text/plain": [
       "<Figure size 1008x432 with 21 Axes>"
      ]
     },
     "metadata": {
      "tags": []
     },
     "output_type": "display_data"
    }
   ],
   "source": [
    "# Inspect some data.\n",
    "cols, rows = 7, 3\n",
    "plt.figure(figsize=(2*cols, 2*rows))\n",
    "for i in range(cols * rows):\n",
    "    plt.subplot(rows, cols, i + 1)\n",
    "    plt.imshow(x[i], cmap='gray')\n",
    "    plt.axis('off')\n",
    "    plt.title(labels[y[i].numpy().argmax()])"
   ]
  },
  {
   "cell_type": "markdown",
   "metadata": {
    "colab_type": "text",
    "id": "0Q4ujlUy0SeQ"
   },
   "source": [
    "## 2.2 Linear model\n",
    "\n",
    "We train a simple linear model from raw pixel data:\n",
    "\n",
    "$$ y = \\text{softmax}( Wx + b ) $$\n",
    "\n",
    "In this section we write a custom training loop and use basic TensorFlow operations for training. Usually you don't need this flexibility and would train the model using some abstractions (see next sections where we use Keras for achieving the same task with much less code)."
   ]
  },
  {
   "cell_type": "code",
   "execution_count": null,
   "metadata": {
    "colab": {
     "base_uri": "https://localhost:8080/",
     "height": 34
    },
    "colab_type": "code",
    "id": "C0EEtCJyVR0h",
    "outputId": "1d32beb6-07b1-4900-b5e0-ff29cd84c3c2"
   },
   "outputs": [
    {
     "data": {
      "text/plain": [
       "(TensorShape([4096, 11]), TensorShape([11]))"
      ]
     },
     "execution_count": 33,
     "metadata": {
      "tags": []
     },
     "output_type": "execute_result"
    }
   ],
   "source": [
    "# We provide an initializer when creating the variable.\n",
    "W = tf.Variable(tf.random.normal(shape=(x.shape[1] * x.shape[2], y.shape[1])))\n",
    "b = tf.Variable(tf.random.normal(shape=(y.shape[1], )))\n",
    "W.shape, b.shape"
   ]
  },
  {
   "cell_type": "code",
   "execution_count": null,
   "metadata": {
    "colab": {
     "base_uri": "https://localhost:8080/",
     "height": 170
    },
    "colab_type": "code",
    "id": "TTFza1M3VV1R",
    "outputId": "bbda101a-47cb-448c-820d-5440232572d4"
   },
   "outputs": [
    {
     "name": "stdout",
     "output_type": "stream",
     "text": [
      "step= 100 loss=23.844 acc=0.341\n",
      "step= 200 loss=18.252 acc=0.416\n",
      "step= 300 loss=17.465 acc=0.432\n",
      "step= 400 loss=17.159 acc=0.443\n",
      "step= 500 loss=16.347 acc=0.449\n",
      "step= 600 loss=14.970 acc=0.470\n",
      "step= 700 loss=14.475 acc=0.463\n",
      "step= 800 loss=14.558 acc=0.465\n",
      "step= 900 loss=15.164 acc=0.461\n"
     ]
    }
   ],
   "source": [
    "# YOUR ACTION REQUIRED:\n",
    "# Adjust the training below to use a decaying learning rate / step size instead\n",
    "# of using a fixed rate of 0.01.\n",
    "# (Using a decaying learning rate is often a good idea to make quick progress in\n",
    "#  the beginning but avoid making too big changes to already tuned parameters.)\n",
    "\n",
    "\n",
    "\n",
    "\n",
    "# Record values for loss and accuracy for plotting purposes.\n",
    "losses = []\n",
    "accs = []\n",
    "lr=0.01\n",
    "decay=1e-7\n",
    "# Train for two epochs.\n",
    "epochs = 2\n",
    "for step, (x, y) in enumerate(ds_train):\n",
    "    if step >= epochs * train_steps:\n",
    "        break\n",
    "    # Compute predictions from input and weights.\n",
    "    with tf.GradientTape() as tape:\n",
    "        logits = tf.matmul(tf.reshape(x, (x.shape[0], -1)), W) + b\n",
    "        loss = tf.nn.softmax_cross_entropy_with_logits(y, logits)\n",
    "    losses.append(loss.numpy().mean())\n",
    "    W_grad, b_grad = tape.gradient(loss, (W, b))\n",
    "\n",
    "    # Gradient descent.\n",
    "    W.assign_add(-lr * W_grad)\n",
    "    b.assign_add(-lr * b_grad)\n",
    "    lr=lr-decay\n",
    "    if(lr<0):\n",
    "      lr=0\n",
    "    # Compute accuracy.\n",
    "    good_preds = tf.equal(tf.argmax(logits, axis=1), tf.argmax(y, axis=1))\n",
    "    acc = tf.reduce_mean(tf.cast(good_preds, tf.float32))\n",
    "    accs.append(acc.numpy())\n",
    "    # Prove we didn't freeze...\n",
    "    if step and step % 100 == 0:\n",
    "        print('step={:4d} loss={:2.3f} acc={:.3f}'.format(\n",
    "            step, np.mean(losses[-100:]), np.mean(accs[-100:])))"
   ]
  },
  {
   "cell_type": "code",
   "execution_count": null,
   "metadata": {
    "colab": {
     "base_uri": "https://localhost:8080/",
     "height": 269
    },
    "colab_type": "code",
    "id": "jgPLeaNjYGFV",
    "outputId": "a89967e8-f8ba-4c22-dbcd-f35b8cfc769a"
   },
   "outputs": [
    {
     "data": {
      "image/png": "[encoded data removed]",
      "text/plain": [
       "<Figure size 432x288 with 2 Axes>"
      ]
     },
     "metadata": {
      "tags": []
     },
     "output_type": "display_data"
    }
   ],
   "source": [
    "# Plot accuracy (should go up) and loss (should go down).\n",
    "# Note large variance from one batch to another.\n",
    "plt.plot(accs, 'g', label='accuracy')\n",
    "plt.legend(loc='upper right')\n",
    "plt.grid(False)\n",
    "plt.twinx().plot(losses, 'r', label='loss')\n",
    "plt.legend(loc='lower right')\n",
    "plt.grid(False)"
   ]
  },
  {
   "cell_type": "code",
   "execution_count": null,
   "metadata": {
    "colab": {
     "base_uri": "https://localhost:8080/",
     "height": 389
    },
    "colab_type": "code",
    "id": "TCm4AlPTVmLI",
    "outputId": "8f0a8bdb-0211-48a9-fc27-ab5469c84ff4"
   },
   "outputs": [
    {
     "data": {
      "image/png": "[encoded data removed]",
      "text/plain": [
       "<Figure size 1008x432 with 21 Axes>"
      ]
     },
     "metadata": {
      "tags": []
     },
     "output_type": "display_data"
    }
   ],
   "source": [
    "# Analyze some predictions.\n",
    "cols, rows = 7, 3\n",
    "plt.figure(figsize=(2*cols, 2*rows))\n",
    "for i in range(cols * rows):\n",
    "    plt.subplot(rows, cols, i + 1)\n",
    "    plt.imshow(x[i], cmap='gray')\n",
    "    plt.axis('off')\n",
    "    pred = tf.nn.softmax(tf.matmul(tf.reshape(x[i: i + 1], (1, -1)), W) + b)\n",
    "    plt.title(labels[pred.numpy().argmax()] + '?')"
   ]
  },
  {
   "cell_type": "markdown",
   "metadata": {
    "colab_type": "text",
    "id": "IAErUoWyaImf"
   },
   "source": [
    "## 2.3 Keras to the rescue\n",
    "\n",
    "Keras is a clean API for defining neural networks at the layer level.\n",
    "\n",
    "A model is defined as a stack of [Keras layers](https://keras.io/layers/about-keras-layers/)."
   ]
  },
  {
   "cell_type": "code",
   "execution_count": null,
   "metadata": {
    "colab": {
     "base_uri": "https://localhost:8080/",
     "height": 221
    },
    "colab_type": "code",
    "id": "WP7tyBn8aJ1O",
    "outputId": "fb282dcf-1256-4480-f347-02481b48ad2b"
   },
   "outputs": [
    {
     "name": "stdout",
     "output_type": "stream",
     "text": [
      "Model: \"sequential\"\n",
      "_________________________________________________________________\n",
      "Layer (type)                 Output Shape              Param #   \n",
      "=================================================================\n",
      "flatten (Flatten)            (None, 4096)              0         \n",
      "_________________________________________________________________\n",
      "dense (Dense)                (None, 11)                45067     \n",
      "=================================================================\n",
      "Total params: 45,067\n",
      "Trainable params: 45,067\n",
      "Non-trainable params: 0\n",
      "_________________________________________________________________\n"
     ]
    }
   ],
   "source": [
    "linear_model = tf.keras.Sequential()\n",
    "# Need to specify the input shape for the first layer.\n",
    "# Note that the batch dimension is NOT specified in the input_shape.\n",
    "linear_model.add(tf.keras.layers.Flatten(input_shape=(64, 64,)))\n",
    "# For all consecutive layers, the input shape is determined by the output shape\n",
    "# of the preceding layer.\n",
    "# A linear model is simply a single dense layer.\n",
    "linear_model.add(tf.keras.layers.Dense(len(labels), activation='softmax'))\n",
    "\n",
    "linear_model.compile(\n",
    "    optimizer=tf.keras.optimizers.Adam(),\n",
    "    loss='categorical_crossentropy',\n",
    "    metrics=['accuracy', tf.keras.metrics.categorical_accuracy])\n",
    "\n",
    "linear_model.summary()"
   ]
  },
  {
   "cell_type": "code",
   "execution_count": null,
   "metadata": {
    "colab": {
     "base_uri": "https://localhost:8080/",
     "height": 105
    },
    "colab_type": "code",
    "id": "PqYgbAbvaWjc",
    "outputId": "67bb34c5-5bdc-4261-e977-b6c50be9cf5e"
   },
   "outputs": [
    {
     "name": "stdout",
     "output_type": "stream",
     "text": [
      "Epoch 1/2\n",
      "500/500 [==============================] - 37s 73ms/step - loss: 1.2214 - accuracy: 0.6030 - categorical_accuracy: 0.6030 - val_loss: 1.3577 - val_accuracy: 0.5654 - val_categorical_accuracy: 0.5654\n",
      "Epoch 2/2\n",
      "500/500 [==============================] - 15s 31ms/step - loss: 1.1835 - accuracy: 0.6133 - categorical_accuracy: 0.6133 - val_loss: 1.3525 - val_accuracy: 0.5685 - val_categorical_accuracy: 0.5685\n"
     ]
    }
   ],
   "source": [
    "# Let's train the model for two epochs.\n",
    "\n",
    "# YOUR ACTION REQUIRED:\n",
    "# Use dataset from above and train and evaluate using the `.fit()` method.\n",
    "# Do you get comparable results to the previous section?\n",
    "linear_model.fit(ds_train,\n",
    "               validation_data=ds_eval,\n",
    "               steps_per_epoch=train_steps,\n",
    "               validation_steps=eval_steps,\n",
    "               epochs=2,\n",
    "               verbose=True)"
   ]
  },
  {
   "cell_type": "code",
   "execution_count": null,
   "metadata": {
    "colab": {
     "base_uri": "https://localhost:8080/",
     "height": 389
    },
    "colab_type": "code",
    "id": "_PAFh4JWbffN",
    "outputId": "6af918c1-41a7-40f0-c909-0d48366c0264"
   },
   "outputs": [
    {
     "data": {
      "image/png": "[encoded data removed]",
      "text/plain": [
       "<Figure size 1008x432 with 21 Axes>"
      ]
     },
     "metadata": {
      "tags": []
     },
     "output_type": "display_data"
    }
   ],
   "source": [
    "# Analyze some predictions.\n",
    "cols, rows = 7, 3\n",
    "plt.figure(figsize=(2*cols, 2*rows))\n",
    "for i in range(cols * rows):\n",
    "    plt.subplot(rows, cols, i + 1)\n",
    "    plt.imshow(x[i], cmap='gray')\n",
    "    plt.axis('off')\n",
    "    pred = linear_model.predict(x[i: i + 1])[0]\n",
    "    plt.title(labels[pred.argmax()] + '?')"
   ]
  },
  {
   "cell_type": "markdown",
   "metadata": {
    "colab_type": "text",
    "id": "nvIpSfV1bv4L"
   },
   "source": [
    "## 2.4 Convolutional model\n",
    "\n",
    "Keras provides layers for convolution and maxpooling."
   ]
  },
  {
   "cell_type": "code",
   "execution_count": null,
   "metadata": {
    "colab": {
     "base_uri": "https://localhost:8080/",
     "height": 425
    },
    "colab_type": "code",
    "id": "_NvbcSa_bxPj",
    "outputId": "34d4df21-1032-4b14-bb02-bf4fc7ca6c70"
   },
   "outputs": [
    {
     "name": "stdout",
     "output_type": "stream",
     "text": [
      "Model: \"sequential_1\"\n",
      "_________________________________________________________________\n",
      "Layer (type)                 Output Shape              Param #   \n",
      "=================================================================\n",
      "reshape (Reshape)            (None, 64, 64, 1)         0         \n",
      "_________________________________________________________________\n",
      "conv2d (Conv2D)              (None, 64, 64, 32)        3232      \n",
      "_________________________________________________________________\n",
      "max_pooling2d (MaxPooling2D) (None, 16, 16, 32)        0         \n",
      "_________________________________________________________________\n",
      "conv2d_1 (Conv2D)            (None, 16, 16, 64)        51264     \n",
      "_________________________________________________________________\n",
      "max_pooling2d_1 (MaxPooling2 (None, 4, 4, 64)          0         \n",
      "_________________________________________________________________\n",
      "flatten_1 (Flatten)          (None, 1024)              0         \n",
      "_________________________________________________________________\n",
      "dense_1 (Dense)              (None, 256)               262400    \n",
      "_________________________________________________________________\n",
      "dense_2 (Dense)              (None, 11)                2827      \n",
      "=================================================================\n",
      "Total params: 319,723\n",
      "Trainable params: 319,723\n",
      "Non-trainable params: 0\n",
      "_________________________________________________________________\n"
     ]
    }
   ],
   "source": [
    "conv_model = tf.keras.Sequential([\n",
    "    tf.keras.layers.Reshape(target_shape=(64, 64, 1), input_shape=(64, 64)),\n",
    "    tf.keras.layers.Conv2D(filters=32, kernel_size=(10, 10), padding='same', activation='relu'),\n",
    "    tf.keras.layers.MaxPooling2D(pool_size=(4, 4), strides=(4,4)),\n",
    "    tf.keras.layers.Conv2D(filters=64, kernel_size=(5, 5), padding='same', activation='relu'),\n",
    "    tf.keras.layers.MaxPooling2D(pool_size=(4, 4), strides=(4,4)),\n",
    "\n",
    "    tf.keras.layers.Flatten(),\n",
    "    tf.keras.layers.Dense(256, activation='relu'),\n",
    "    tf.keras.layers.Dense(len(labels), activation='softmax'),\n",
    "])\n",
    "\n",
    "# YOUR ACTION REQUIRED:\n",
    "# Compile + print summary of model (analogous to linear model above)\n",
    "conv_model.compile(\n",
    "    optimizer=tf.keras.optimizers.Adam(),\n",
    "    loss='categorical_crossentropy',\n",
    "    metrics=['accuracy', tf.keras.metrics.categorical_accuracy])\n",
    "\n",
    "conv_model.summary()"
   ]
  },
  {
   "cell_type": "code",
   "execution_count": null,
   "metadata": {
    "colab": {
     "base_uri": "https://localhost:8080/",
     "height": 34
    },
    "colab_type": "code",
    "id": "Ay1IHqOlcuPU",
    "outputId": "9191de96-b448-4ad5-d40a-9d08263c190c"
   },
   "outputs": [
    {
     "data": {
      "text/plain": [
       "'./tensorboard/07:55'"
      ]
     },
     "execution_count": 48,
     "metadata": {
      "tags": []
     },
     "output_type": "execute_result"
    }
   ],
   "source": [
    "# Path where data will be stored for visualization in TensorBoard.\n",
    "# We have already started TensorBoard in the \"Start TensorBoard & tunnel\"\n",
    "# section. Go back to that section and open the link to open TensorBoard in a\n",
    "# separate tab if you have not yet done so.\n",
    "\n",
    "# You can also run this section multiple times specifying different values for\n",
    "# \"tensorboard_path\" -- TensorBoard allows you to compare the different runs.\n",
    "tensorboard_path = './tensorboard/' + time.strftime('%H:%M', time.localtime(time.time()))\n",
    "os.makedirs(tensorboard_path, exist_ok=True)\n",
    "\n",
    "# That's also the name that will be displayed in TensorBoard:\n",
    "tensorboard_path\n",
    "\n",
    "# This callback will make Keras record loss and metrics.\n",
    "# You can check out other callbacks here : https://keras.io/callbacks/\n",
    "# They can do useful stuff like \n",
    "callbacks = [\n",
    "    tf.keras.callbacks.TensorBoard(\n",
    "        log_dir=tensorboard_path, update_freq='batch'),\n",
    "]"
   ]
  },
  {
   "cell_type": "code",
   "execution_count": null,
   "metadata": {
    "colab": {},
    "colab_type": "code",
    "id": "IvsRVLFrcq5s"
   },
   "outputs": [],
   "source": [
    "# This callback will make Keras record loss and metrics.\n",
    "# You can check out other callbacks here : https://keras.io/callbacks/\n",
    "# They can do useful stuff like \n",
    "\n",
    "callbacks = [\n",
    "    tf.keras.callbacks.TensorBoard(\n",
    "        log_dir=tensorboard_path, update_freq='batch'),\n",
    "]"
   ]
  },
  {
   "cell_type": "code",
   "execution_count": null,
   "metadata": {
    "colab": {
     "base_uri": "https://localhost:8080/",
     "height": 173
    },
    "colab_type": "code",
    "id": "-lgmdONMb5tZ",
    "outputId": "5f67875f-734d-4b8f-9df4-6ebd46967c60"
   },
   "outputs": [
    {
     "name": "stdout",
     "output_type": "stream",
     "text": [
      "Epoch 1/3\n",
      "  1/500 [..............................] - ETA: 3:32:45 - loss: 2.3938 - accuracy: 0.0700 - categorical_accuracy: 0.0700"
     ]
    },
    {
     "name": "stderr",
     "output_type": "stream",
     "text": [
      "W0522 07:56:06.221572 140298422253440 callbacks.py:257] Method (on_train_batch_end) is slow compared to the batch update (0.430408). Check your callbacks.\n"
     ]
    },
    {
     "name": "stdout",
     "output_type": "stream",
     "text": [
      "500/500 [==============================] - 43s 86ms/step - loss: 0.7610 - accuracy: 0.7458 - categorical_accuracy: 0.7458 - val_loss: 0.5325 - val_accuracy: 0.8212 - val_categorical_accuracy: 0.8212\n",
      "Epoch 2/3\n",
      "500/500 [==============================] - 17s 33ms/step - loss: 0.4184 - accuracy: 0.8608 - categorical_accuracy: 0.8608 - val_loss: 0.4039 - val_accuracy: 0.8650 - val_categorical_accuracy: 0.8650\n",
      "Epoch 3/3\n",
      "500/500 [==============================] - 17s 34ms/step - loss: 0.3262 - accuracy: 0.8901 - categorical_accuracy: 0.8901 - val_loss: 0.3758 - val_accuracy: 0.8733 - val_categorical_accuracy: 0.8733\n"
     ]
    },
    {
     "data": {
      "text/plain": [
       "<tensorflow.python.keras.callbacks.History at 0x7f9954187be0>"
      ]
     },
     "execution_count": 50,
     "metadata": {
      "tags": []
     },
     "output_type": "execute_result"
    }
   ],
   "source": [
    "# Train the model (analogous to linear model above).\n",
    "# Note: You might want to reduce the number of steps if if it takes too long.\n",
    "# You probably want to change the runtime type (\"Runtime\" menu) to GPU! If you\n",
    "# change the runtime type then you will need to rerun the cells above because\n",
    "# the Python kernel's state is reset.\n",
    "conv_model.fit(ds_train,\n",
    "               validation_data=ds_eval,\n",
    "               steps_per_epoch=train_steps,\n",
    "               validation_steps=eval_steps,\n",
    "               epochs=3,\n",
    "               callbacks=callbacks,\n",
    "               verbose=True)"
   ]
  },
  {
   "cell_type": "code",
   "execution_count": null,
   "metadata": {
    "colab": {},
    "colab_type": "code",
    "id": "k3uysDBX0NkX"
   },
   "outputs": [],
   "source": [
    "## NOTE : If you don't see an update in TensorBoard, then restart it by re-\n",
    "##        executing the cell under \"Start TensorBoard & tunnel\". You can run\n",
    "##        those cells in a separate Colab running on the same VM (i.e. using the\n",
    "##        same runtime type) while the model is training in this Colab."
   ]
  },
  {
   "cell_type": "code",
   "execution_count": null,
   "metadata": {
    "colab": {
     "base_uri": "https://localhost:8080/",
     "height": 389
    },
    "colab_type": "code",
    "id": "s2Rfu5Ww0ESO",
    "outputId": "cafbd86f-66fa-427c-ca04-abd36263a91a"
   },
   "outputs": [
    {
     "data": {
      "image/png": "[encoded data removed]",
      "text/plain": [
       "<Figure size 1008x432 with 21 Axes>"
      ]
     },
     "metadata": {
      "tags": []
     },
     "output_type": "display_data"
    }
   ],
   "source": [
    "# Analyze some predictions.\n",
    "# Compare the errors from the convolutional model with the errors from the\n",
    "# linear model...\n",
    "cols, rows = 7, 3\n",
    "plt.figure(figsize=(2*cols, 2*rows))\n",
    "for i in range(cols * rows):\n",
    "    plt.subplot(rows, cols, i + 1)\n",
    "    plt.imshow(x[i], cmap='gray')\n",
    "    plt.axis('off')\n",
    "    pred = conv_model.predict(x[i: i + 1])[0]\n",
    "    plt.title(labels[pred.argmax()] + '?')"
   ]
  },
  {
   "cell_type": "markdown",
   "metadata": {
    "colab_type": "text",
    "id": "KDCRRumMCqFw"
   },
   "source": [
    "## 2.5 Store/load model on Google Drive\n",
    "\n",
    "All data in the local filesystem on the VM is **ephemeral**! The VM will be deleted after some time of inactivity. Two popular options for persisting data:\n",
    "\n",
    "- Store data on some cloud storage. That's the way to got if you have large amounts of data and/or later need to access it from a cloud environment. But you also first have to register a cloud account and"
   ]
  },
  {
   "cell_type": "code",
   "execution_count": null,
   "metadata": {
    "colab": {},
    "colab_type": "code",
    "id": "d5E4keWeliXm"
   },
   "outputs": [],
   "source": [
    "os.makedirs(models_path, exist_ok=True)"
   ]
  },
  {
   "cell_type": "code",
   "execution_count": null,
   "metadata": {
    "colab": {},
    "colab_type": "code",
    "id": "V94tLWcEJDeI"
   },
   "outputs": [],
   "source": [
    "# Save model as Keras model.\n",
    "keras_path = os.path.join(models_path, 'linear.h5')\n",
    "linear_model.save(keras_path)"
   ]
  },
  {
   "cell_type": "code",
   "execution_count": null,
   "metadata": {
    "colab": {
     "base_uri": "https://localhost:8080/",
     "height": 34
    },
    "colab_type": "code",
    "id": "uJj4acwemWDy",
    "outputId": "8c03e4df-b6b2-407d-f885-2dcf4a358562"
   },
   "outputs": [
    {
     "name": "stdout",
     "output_type": "stream",
     "text": [
      "-rw------- 1 root root 549K May 22 08:00 '/content/gdrive/My Drive/ee559/session13/models/linear.h5'\n"
     ]
    }
   ],
   "source": [
    "# Keras model is a single file.\n",
    "!ls -hl \"$keras_path\""
   ]
  },
  {
   "cell_type": "code",
   "execution_count": null,
   "metadata": {
    "colab": {
     "base_uri": "https://localhost:8080/",
     "height": 221
    },
    "colab_type": "code",
    "id": "7voxj90AMWXa",
    "outputId": "f3602530-9d59-4b4a-cfdf-a759d905435c"
   },
   "outputs": [
    {
     "name": "stdout",
     "output_type": "stream",
     "text": [
      "Model: \"sequential\"\n",
      "_________________________________________________________________\n",
      "Layer (type)                 Output Shape              Param #   \n",
      "=================================================================\n",
      "flatten (Flatten)            (None, 4096)              0         \n",
      "_________________________________________________________________\n",
      "dense (Dense)                (None, 11)                45067     \n",
      "=================================================================\n",
      "Total params: 45,067\n",
      "Trainable params: 45,067\n",
      "Non-trainable params: 0\n",
      "_________________________________________________________________\n"
     ]
    }
   ],
   "source": [
    "model = tf.keras.models.load_model(keras_path)\n",
    "model.summary()"
   ]
  },
  {
   "cell_type": "markdown",
   "metadata": {
    "colab_type": "text",
    "id": "u-2bz6nEJEl_"
   },
   "source": [
    "# 3 Sock competition\n",
    "\n",
    "\n",
    "The models that we used in the earlier sections were intentionally kept very simple and have not been optimized at all.\n",
    "\n",
    "In this section we will first load a dataset with some more classes to make the problem more interesting. Your task is then to develop a better model to achieve maximum accuracy ont he evaluation set.\n",
    "\n",
    "Start with simple things (tuning batch size, learning rate, optimizer), then add more layers (batch norm, more/less convolutions). When you think you have a good combination, try increasing the training time to see where you can get."
   ]
  },
  {
   "cell_type": "code",
   "execution_count": 80,
   "metadata": {
    "colab": {
     "base_uri": "https://localhost:8080/",
     "height": 34
    },
    "colab_type": "code",
    "id": "9hymTJAoJF_3",
    "outputId": "a4f2d311-924c-48d4-f0ec-fee91f5388f6"
   },
   "outputs": [
    {
     "name": "stdout",
     "output_type": "stream",
     "text": [
      "https://console.cloud.google.com/storage/browser/amld-datasets/animals_img\n"
     ]
    }
   ],
   "source": [
    "## - 4.1M training examples, without pickled DataFrame\n",
    "animals_data_path = 'gs://amld-datasets/animals_img'\n",
    "\n",
    "print('https://console.cloud.google.com/storage/browser/' + animals_data_path.split('//')[1])"
   ]
  },
  {
   "cell_type": "code",
   "execution_count": 81,
   "metadata": {
    "colab": {
     "base_uri": "https://localhost:8080/",
     "height": 71
    },
    "colab_type": "code",
    "id": "EXsH2JgLTEbF",
    "outputId": "f63bc1dc-a4f2-42d6-de24-6e4d766ca202"
   },
   "outputs": [
    {
     "name": "stdout",
     "output_type": "stream",
     "text": [
      "All labels in the dataset: ant bat bear bee bird butterfly camel cat cow crab crocodile dog dolphin dragon duck elephant fish flamingo frog giraffe hedgehog horse kangaroo lion lobster monkey mosquito mouse octopus owl panda parrot penguin pig rabbit raccoon rhinoceros scorpion sea turtle shark sheep snail snake spider squirrel swan\n",
      "Splits sizes: {'train': 4102898, 'eval': 585810}\n"
     ]
    }
   ],
   "source": [
    "animals_labels = [label.strip() for label in tf.io.gfile.GFile('{}/labels.txt'.format(animals_data_path))]\n",
    "print('All labels in the dataset:', ' '.join(animals_labels))\n",
    "\n",
    "animals_counts = json.load(tf.io.gfile.GFile('{}/counts.json'.format(animals_data_path)))\n",
    "print(\"Splits sizes:\", animals_counts)"
   ]
  },
  {
   "cell_type": "code",
   "execution_count": 87,
   "metadata": {
    "colab": {
     "base_uri": "https://localhost:8080/",
     "height": 34
    },
    "colab_type": "code",
    "id": "1pHwYvj3VaPz",
    "outputId": "daddc5a0-47c2-43df-a833-b835e42e8b27"
   },
   "outputs": [
    {
     "data": {
      "text/plain": [
       "(41028, 5858)"
      ]
     },
     "execution_count": 87,
     "metadata": {
      "tags": []
     },
     "output_type": "execute_result"
    }
   ],
   "source": [
    "# (Uses functions defined under \"2.1 Read data\").\n",
    "def parse_record(serialized_example):\n",
    "    features = tf.io.parse_single_example(serialized_example, feature_spec)\n",
    "    return (\n",
    "        tf.cast(features['img_64'], tf.float32) / 255,\n",
    "        tf.one_hot(features['label'], len(animals_labels)),\n",
    "    )\n",
    "def make_ds(which, batch_size=100):\n",
    "    # The tf.io.gfile module provides transparent access to files on Gogole Cloud\n",
    "    # Storage (GCS).\n",
    "    ds = tf.data.TFRecordDataset(tf.io.gfile.glob('{}/{}-*'.format(animals_data_path, which)))\n",
    "    ds = ds.map(parse_record).batch(batch_size)\n",
    "    return ds, animals_counts[which] // batch_size\n",
    "\n",
    "animals_ds_train, animals_train_steps = make_ds('train')\n",
    "animals_ds_train = animals_ds_train.shuffle(1000).repeat()\n",
    "animals_ds_eval, animals_eval_steps = make_ds('eval')\n",
    "\n",
    "animals_train_steps, animals_eval_steps"
   ]
  },
  {
   "cell_type": "code",
   "execution_count": 88,
   "metadata": {
    "colab": {
     "base_uri": "https://localhost:8080/",
     "height": 34
    },
    "colab_type": "code",
    "id": "uuMKkP-DV7um",
    "outputId": "0402b197-0d38-4c21-fd25-a61f0f085115"
   },
   "outputs": [
    {
     "data": {
      "text/plain": [
       "(TensorShape([100, 64, 64]), TensorShape([100, 46]))"
      ]
     },
     "execution_count": 88,
     "metadata": {
      "tags": []
     },
     "output_type": "execute_result"
    }
   ],
   "source": [
    "for x, y in animals_ds_train:\n",
    "    break\n",
    "x.shape, y.shape"
   ]
  },
  {
   "cell_type": "code",
   "execution_count": 84,
   "metadata": {
    "colab": {
     "base_uri": "https://localhost:8080/",
     "height": 389
    },
    "colab_type": "code",
    "id": "-iuG-iypVmnp",
    "outputId": "a17e62c5-e397-415e-bd63-5007d8a480f5"
   },
   "outputs": [
    {
     "data": {
      "image/png": "[encoded data removed]",
      "text/plain": [
       "<Figure size 1008x432 with 21 Axes>"
      ]
     },
     "metadata": {
      "tags": []
     },
     "output_type": "display_data"
    }
   ],
   "source": [
    "# Visualize some data. Note how the increased number of classes makes the\n",
    "# problem considerably more complicated...\n",
    "cols, rows = 7, 3\n",
    "plt.figure(figsize=(2*cols, 2*rows))\n",
    "for i in range(cols * rows):\n",
    "    plt.subplot(rows, cols, i + 1)\n",
    "    plt.imshow(x[i], cmap='gray')\n",
    "    plt.axis('off')\n",
    "    plt.title(animals_labels[y[i].numpy().argmax()])"
   ]
  },
  {
   "cell_type": "code",
   "execution_count": 101,
   "metadata": {
    "colab": {
     "base_uri": "https://localhost:8080/",
     "height": 425
    },
    "colab_type": "code",
    "id": "AX00uIh-YJ0e",
    "outputId": "8153a641-877b-49be-e7fe-5a47da49d074"
   },
   "outputs": [
    {
     "name": "stdout",
     "output_type": "stream",
     "text": [
      "Model: \"sequential_17\"\n",
      "_________________________________________________________________\n",
      "Layer (type)                 Output Shape              Param #   \n",
      "=================================================================\n",
      "reshape_16 (Reshape)         (None, 64, 64, 1)         0         \n",
      "_________________________________________________________________\n",
      "conv2d_32 (Conv2D)           (None, 64, 64, 64)        1088      \n",
      "_________________________________________________________________\n",
      "max_pooling2d_30 (MaxPooling (None, 21, 21, 64)        0         \n",
      "_________________________________________________________________\n",
      "conv2d_33 (Conv2D)           (None, 21, 21, 128)       73856     \n",
      "_________________________________________________________________\n",
      "max_pooling2d_31 (MaxPooling (None, 7, 7, 128)         0         \n",
      "_________________________________________________________________\n",
      "flatten_17 (Flatten)         (None, 6272)              0         \n",
      "_________________________________________________________________\n",
      "dense_33 (Dense)             (None, 256)               1605888   \n",
      "_________________________________________________________________\n",
      "dense_34 (Dense)             (None, 46)                11822     \n",
      "=================================================================\n",
      "Total params: 1,692,654\n",
      "Trainable params: 1,692,654\n",
      "Non-trainable params: 0\n",
      "_________________________________________________________________\n"
     ]
    }
   ],
   "source": [
    "# YOUR ACTION REQUIRED:\n",
    "#\n",
    "# Build a model by stacking some Keras layers. Note that using the example\n",
    "# configuration from above yields already 63% accuracy (convolutional model).\n",
    "#\n",
    "# While waiting for training, you can walk through the bonus section below\n",
    "# (make another copy of the Colab if necessary).\n",
    "\n",
    "tensorboard_path = './tensorboard/' + time.strftime('%H:%M', time.localtime(time.time()))\n",
    "os.makedirs(tensorboard_path, exist_ok=True)\n",
    "\n",
    "# That's also the name that will be displayed in TensorBoard:\n",
    "tensorboard_path\n",
    "\n",
    "# This callback will make Keras record loss and metrics.\n",
    "# You can check out other callbacks here : https://keras.io/callbacks/\n",
    "# They can do useful stuff like \n",
    "callbacks = [\n",
    "    tf.keras.callbacks.TensorBoard(\n",
    "        log_dir=tensorboard_path, update_freq='batch'),\n",
    "]\n",
    "Sock_model = tf.keras.Sequential([\n",
    "    tf.keras.layers.Reshape(target_shape=(64, 64, 1), input_shape=(64, 64)),\n",
    "    tf.keras.layers.Conv2D(filters=64, kernel_size=(4, 4), padding='same', activation='relu'),\n",
    "    tf.keras.layers.MaxPooling2D(pool_size=(3, 3), strides=(3,3)),\n",
    "    tf.keras.layers.Conv2D(filters=128, kernel_size=(3, 3), padding='same', activation='relu'),\n",
    "    tf.keras.layers.MaxPooling2D(pool_size=(3, 3), strides=(3,3)),\n",
    "\n",
    "    tf.keras.layers.Flatten(),\n",
    "    tf.keras.layers.Dense(256, activation='relu'),\n",
    "    tf.keras.layers.Dense(len(animals_labels), activation='softmax'),\n",
    "])\n",
    "\n",
    "# YOUR ACTION REQUIRED:\n",
    "# Compile + print summary of model (analogous to linear model above)\n",
    "Sock_model.compile(\n",
    "    optimizer=tf.keras.optimizers.Adam(lr=0.002),\n",
    "    loss='categorical_crossentropy',\n",
    "    metrics=['accuracy', tf.keras.metrics.categorical_accuracy])\n",
    "\n",
    "Sock_model.summary()\n",
    "# Train the model (analogous to linear model above).\n",
    "# Note: You might want to reduce the number of steps if if it takes too long.\n",
    "# You probably want to change the runtime type (\"Runtime\" menu) to GPU! If you\n",
    "# change the runtime type then you will need to rerun the cells above because\n",
    "# the Python kernel's state is reset.\n"
   ]
  },
  {
   "cell_type": "markdown",
   "metadata": {
    "colab_type": "text",
    "id": "gLJojHH0xVE0"
   },
   "source": [
    "Train_Model"
   ]
  },
  {
   "cell_type": "code",
   "execution_count": null,
   "metadata": {
    "colab": {
     "base_uri": "https://localhost:8080/",
     "height": 105
    },
    "colab_type": "code",
    "id": "Ptoag_LArFoi",
    "outputId": "196037a5-ab8c-4a2f-a3fd-30f88ef129d1"
   },
   "outputs": [
    {
     "name": "stdout",
     "output_type": "stream",
     "text": [
      "Epoch 1/5\n",
      "41028/41028 [==============================] - 1807s 44ms/step - loss: 0.9212 - accuracy: 0.7292 - categorical_accuracy: 0.7292 - val_loss: 0.8294 - val_accuracy: 0.7534 - val_categorical_accuracy: 0.7534\n",
      "Epoch 2/5\n",
      "19277/41028 [=============>................] - ETA: 11:29 - loss: 0.8147 - accuracy: 0.7577 - categorical_accuracy: 0.7577"
     ]
    }
   ],
   "source": [
    "# Train the model (analogous to linear model above).\n",
    "# Note: You might want to reduce the number of steps if if it takes too long.\n",
    "# You probably want to change the runtime type (\"Runtime\" menu) to GPU! If you\n",
    "# change the runtime type then you will need to rerun the cells above because\n",
    "# the Python kernel's state is reset.\n",
    "Sock_model.fit(animals_ds_train,\n",
    "               validation_data=animals_ds_eval,\n",
    "               steps_per_epoch=animals_train_steps,\n",
    "               validation_steps=animals_eval_steps,\n",
    "               epochs=5,\n",
    "               callbacks=callbacks,\n",
    "               verbose=True)"
   ]
  },
  {
   "cell_type": "markdown",
   "metadata": {
    "colab_type": "text",
    "id": "cHOhz1cxxSI8"
   },
   "source": [
    "Restart Tensorboard\n"
   ]
  },
  {
   "cell_type": "code",
   "execution_count": 100,
   "metadata": {
    "colab": {
     "base_uri": "https://localhost:8080/",
     "height": 34
    },
    "colab_type": "code",
    "id": "Z_dgXnwsw-SL",
    "outputId": "73a4efcd-9749-4478-d56d-fce053923113"
   },
   "outputs": [
    {
     "name": "stdout",
     "output_type": "stream",
     "text": [
      "http://ce466504.ngrok.io\n"
     ]
    }
   ],
   "source": [
    "# This cell (re)starts TensorBoard & forward the port using ngrok.\n",
    "\n",
    "# Stop previously started processes, if any.\n",
    "!pkill tensorboard; pkill ngrok\n",
    "# Make sure ngrok was installed locally in previous cell.\n",
    "assert os.system('./ngrok --help') == 0\n",
    "# Start TensorBoard.\n",
    "get_ipython().system_raw(\n",
    "    'tensorboard --logdir \"./tensorboard\" --host 0.0.0.0 --port 6006 &'\n",
    ")\n",
    "# Forward port.\n",
    "get_ipython().system_raw('./ngrok http 6006 &')\n",
    "# Give some time to start up.\n",
    "!sleep 1\n",
    "# Output external address (ngrok's web interface listens at 4004).\n",
    "!curl -s http://localhost:4040/api/tunnels | python3 -c \"import sys, json; print(json.load(sys.stdin)['tunnels'][0]['public_url'])\""
   ]
  },
  {
   "cell_type": "code",
   "execution_count": null,
   "metadata": {
    "colab": {},
    "colab_type": "code",
    "id": "a0tdsXLAzmkd"
   },
   "outputs": [],
   "source": [
    "!rm -r ./tensorboard"
   ]
  },
  {
   "cell_type": "markdown",
   "metadata": {
    "colab_type": "text",
    "id": "Xm3XfMvkgFKO"
   },
   "source": [
    "# 4 Bonus: TensorFlow.js\n",
    "\n",
    "In this section we'll convert our models from last section to TensorFlow.js models and then write a mini web site that loads the converted model for live inference.\n",
    "\n",
    "First read a bit about basic concepts in TensorFlow.js:\n",
    "https://js.tensorflow.org/tutorials/core-concepts.html"
   ]
  },
  {
   "cell_type": "markdown",
   "metadata": {
    "colab_type": "text",
    "id": "VogZyTDRZwQn"
   },
   "source": [
    "### 4.1 Basics"
   ]
  },
  {
   "cell_type": "code",
   "execution_count": null,
   "metadata": {
    "colab": {},
    "colab_type": "code",
    "id": "Qp8mXdaBy2rC"
   },
   "outputs": [],
   "source": [
    "# Getting the data of a tensor in TensorFlow.js : Use the async .data() method\n",
    "# to show the output in the \"output\" element.\n",
    "# See output in javascript console (e.g. Chrome developer tools).\n",
    "\n",
    "# Alternatively, you can also copy'n'paste the code into a CodePen:\n",
    "# https://codepen.io/andreassteiner/pen/BedqJW?editors=1011\n",
    "%%html\n",
    "<script src=\"https://cdn.jsdelivr.net/npm/@tensorflow/tfjs@0.14.1/dist/tf.min.js\"></script>\n",
    "<pre id=\"output\"></pre>\n",
    "<script>\n",
    "  let output = document.getElementById('output')\n",
    "  let t = tf.tensor([1, 2, 3])\n",
    "  output.textContent = t\n",
    "  // YOUR ACTION REQUIRED:\n",
    "  // Use \"t.data()\" to append the tensor's data values to \"output.textContent\".\n"
   ]
  },
  {
   "cell_type": "code",
   "execution_count": null,
   "metadata": {
    "colab": {},
    "colab_type": "code",
    "id": "_-KQ05ww6zCY"
   },
   "outputs": [],
   "source": [
    "# Get top 3 predictions in TensorFlow.\n",
    "preds = tf.constant([0.1, 0.5, 0.2, 0.0])\n",
    "topk = tf.math.top_k(preds, 3)\n",
    "for idx, value in zip(topk.indices.numpy(), topk.values.numpy()):\n",
    "    print('idx', idx, 'value', value)"
   ]
  },
  {
   "cell_type": "code",
   "execution_count": null,
   "metadata": {
    "colab": {},
    "colab_type": "code",
    "id": "6tUk3AAl7qG1"
   },
   "outputs": [],
   "source": [
    "# Implement the same top 3 functionality in TensorFlow.js, showing the output\n",
    "# in the \"output\" element.\n",
    "# See https://js.tensorflow.org/api/latest/index.html#topk\n",
    "%%html\n",
    "<script src=\"https://cdn.jsdelivr.net/npm/@tensorflow/tfjs@0.14.1/dist/tf.min.js\"></script>\n",
    "<pre id=\"output\"></pre>\n",
    "<script>\n",
    "  let output = document.getElementById('output')\n",
    "  let preds = tf.tensor([0.1, 0.5, 0.2, 0.0])\n",
    "  // YOUR ACTION REQUIRED:\n",
    "  // Use tf.topk() to get top 3 predictions in \"preds\" and append both the\n",
    "  // index and the value of these predictions to \"output\".\n"
   ]
  },
  {
   "cell_type": "markdown",
   "metadata": {
    "colab_type": "text",
    "id": "OiROzUvkZyrl"
   },
   "source": [
    "### 4.2 Convert Model\n",
    "\n",
    "We can convert the Keras model into TensorFlow.js format using the Python package `tensorflowjs`.\n",
    "\n",
    "Read more about importing Keras models:\n",
    "https://js.tensorflow.org/tutorials/import-keras.html\n"
   ]
  },
  {
   "cell_type": "code",
   "execution_count": null,
   "metadata": {
    "colab": {},
    "colab_type": "code",
    "id": "6YIzCLo9gOTp"
   },
   "outputs": [],
   "source": [
    "# Install extra package\n",
    "!pip install -q tensorflowjs"
   ]
  },
  {
   "cell_type": "code",
   "execution_count": null,
   "metadata": {
    "colab": {},
    "colab_type": "code",
    "id": "sdWRdec1aNUq"
   },
   "outputs": [],
   "source": [
    "# Specify directory where to store model.\n",
    "# BTW : Note the \"Files\" tabe on the left side (where we also have \"Table of\n",
    "# contents\"). After executing this cell you should see the new \"tfjs\" directory.\n",
    "tfjs_model_path = './tfjs/model'\n",
    "!mkdir -p \"$tfjs_model_path\""
   ]
  },
  {
   "cell_type": "code",
   "execution_count": null,
   "metadata": {
    "colab": {},
    "colab_type": "code",
    "id": "isxNzEE-6lEM"
   },
   "outputs": [],
   "source": [
    "# Convert model.\n",
    "import tensorflowjs as tfjs\n",
    "tfjs.converters.save_keras_model(conv_model, tfjs_model_path)\n",
    "!ls -lh \"$tfjs_model_path\""
   ]
  },
  {
   "cell_type": "markdown",
   "metadata": {
    "colab_type": "text",
    "id": "yK3ZcgRxasGv"
   },
   "source": [
    "### 4.3 Run http Server\n",
    "\n",
    "By copying together the content of the two `%%html` cells (without the leading `%%html`!) you can now create a fully functional mini web app that handles user input and performs predictions on-device.\n",
    "\n",
    "We store the web page in `./tfjs/index.html` and then use `python3 -m http.server` to serve both the html and the model files. The HTTP port is then forwarded to a public address using [ngrok](https://ngrok.com)."
   ]
  },
  {
   "cell_type": "code",
   "execution_count": null,
   "metadata": {
    "colab": {},
    "colab_type": "code",
    "id": "m12iXwlzaglF"
   },
   "outputs": [],
   "source": [
    "# Append the content of the two html cells (without the \"%%html\" line) in this\n",
    "# Colab below and run the cell. It will create a file \"index.html\" - you can\n",
    "# verify this in the \"Files\" tab on the right.\n",
    "%%writefile ./tfjs/index.html\n",
    "<meta name=\"viewport\" content=\"width=device-width, initial-scale=1, user-scalable=no\">\n",
    "<canvas width=\"256\" height=\"256\" id=\"canvas\" style=\"border:1px solid black\"></canvas><br />\n",
    "<button id=\"clear\">clear</button><br />\n",
    "<pre id=\"output\"></pre>\n",
    "<script>\n",
    "  window.onerror = function(msg, url, line, col, error) {\n",
    "    alert(\"Error: \" + msg + \"\\nurl: \" + url + \"\\nline: \" + line + '\\nerror: ' + error);\n",
    "  }\n",
    "</script>\n",
    "<script>\n",
    "  let upscaleFactor = 4, halfPenSize = 2\n",
    "  let canvas = document.getElementById('canvas')\n",
    "  let output = document.getElementById('output')\n",
    "  let ctx = canvas.getContext('2d')\n",
    "  let img_64 = new Uint8Array(64*64)\n",
    "  let dragging = false\n",
    "  let timeout\n",
    "  let predict = () => {\n",
    "    google.colab.kernel.invokeFunction('amld.predict', [Array.from(img_64)], {}).then(\n",
    "        obj => output.textContent = obj.data['application/json'].result)\n",
    "  }\n",
    "  const getPos = e => {\n",
    "    let x = e.offsetX, y = e.offsetY\n",
    "    if (e.touches) {\n",
    "      const rect = canvas.getBoundingClientRect()\n",
    "      x = e.touches[0].clientX - rect.left\n",
    "      y = e.touches[0].clientY - rect.left\n",
    "    }\n",
    "    return {\n",
    "      x: Math.floor((x - 2*halfPenSize*upscaleFactor/2)/upscaleFactor),\n",
    "      y: Math.floor((y - 2*halfPenSize*upscaleFactor/2)/upscaleFactor),\n",
    "    }\n",
    "  }\n",
    "  const handler = e => {\n",
    "    const { x, y } = getPos(e)\n",
    "    ctx.fillStyle = 'black'\n",
    "    ctx.fillRect(x*upscaleFactor, y*upscaleFactor,\n",
    "                 2*halfPenSize*upscaleFactor, 2*halfPenSize*upscaleFactor)\n",
    "    for (let yy = y - halfPenSize; yy < y + halfPenSize; yy++)\n",
    "      for (let xx = x - halfPenSize; xx < x + halfPenSize; xx++)\n",
    "        img_64[64*Math.min(63, Math.max(0, yy)) + Math.min(63, Math.max(0, xx))] = 1\n",
    "    clearTimeout(timeout)\n",
    "    timeout = setTimeout(predict, 500)\n",
    "  }\n",
    "  canvas.addEventListener('touchstart', e => {dragging=true; handler(e)})\n",
    "  canvas.addEventListener('touchmove', e => {e.preventDefault(); dragging && handler(e)})\n",
    "  canvas.addEventListener('touchend', () => dragging=false)\n",
    "  canvas.addEventListener('mousedown', e => {dragging=true; handler(e)})\n",
    "  canvas.addEventListener('mousemove', e => {dragging && handler(e)})\n",
    "  canvas.addEventListener('mouseup', () => dragging=false)\n",
    "  canvas.addEventListener('mouseleave', () => dragging=false)\n",
    "  document.getElementById('clear').addEventListener('click', () => {\n",
    "    ctx.fillStyle = 'white'\n",
    "    ctx.fillRect(0, 0, 64*upscaleFactor, 64*upscaleFactor)\n",
    "    output.textContent = ''\n",
    "    img_64 = new Uint8Array(64*64)\n",
    "  })\n",
    "</script>\n",
    "<script src=\"https://cdn.jsdelivr.net/npm/@tensorflow/tfjs@1.0.0/dist/tf.min.js\"></script>\n",
    "<script>\n",
    "  const labels = [\"camel\", \"crocodile\", \"dolphin\", \"elephant\", \"flamingo\", \"giraffe\", \"kangaroo\", \"lion\", \"monkey\", \"penguin\", \"rhinoceros\"]\n",
    "  const modelPath = './model/model.json'\n",
    "  let model = null\n",
    "  tf.loadLayersModel(modelPath).then(response => model = response)\n",
    "  predict = () => {\n",
    "    const preds = model.predict(tf.tensor(img_64).reshape([1, 64, -1]))\n",
    "    const { values, indices } = tf.topk(preds, 3)\n",
    "    Promise.all([values.data(), indices.data()]).then(data => {\n",
    "      const [ values, indices ] = data\n",
    "      output.textContent = ''\n",
    "      values.forEach((v, i) => output.textContent +=  `${labels[indices[i]]} : ${v.toFixed(3)}\\n`)\n",
    "    })\n",
    "  }\n",
    "</script>"
   ]
  },
  {
   "cell_type": "code",
   "execution_count": null,
   "metadata": {
    "colab": {},
    "colab_type": "code",
    "id": "TeQ34tArf3w-"
   },
   "outputs": [],
   "source": [
    "# Forwarding of port local http server using https://ngrok.com\n",
    "# (You can skip this cell if you already downloaded ngrok under 1.3)\n",
    "\n",
    "# Download & unzip ngrok\n",
    "!wget https://bin.equinox.io/c/4VmDzA7iaHb/ngrok-stable-linux-amd64.zip\n",
    "!unzip -o ngrok-stable-linux-amd64.zip\n",
    "!ls -lh ./ngrok"
   ]
  },
  {
   "cell_type": "code",
   "execution_count": null,
   "metadata": {
    "colab": {},
    "colab_type": "code",
    "id": "0pXBsA5tZf6U"
   },
   "outputs": [],
   "source": [
    "# Make sure ngrok is downloaded.\n",
    "assert os.system('./ngrok --help') == 0\n",
    "\n",
    "# Then start a mini web server at a random port...\n",
    "import random\n",
    "port = random.randint(1000, 2**16)\n",
    "\n",
    "!pkill ngrok\n",
    "!kill $(ps x | grep -v grep | grep http.server | awk '{print $1}') 2>/dev/null\n",
    "\n",
    "get_ipython().system_raw(\n",
    "    'cd ./tfjs && python3 -m http.server {} &'\n",
    "    .format(port)\n",
    ")\n",
    "\n",
    "# ...and forward the port using ngrok.\n",
    "get_ipython().system_raw('./ngrok http {} &'.format(port))"
   ]
  },
  {
   "cell_type": "code",
   "execution_count": null,
   "metadata": {
    "colab": {},
    "colab_type": "code",
    "id": "rcOW2pxypAqh"
   },
   "outputs": [],
   "source": [
    "# Get the public address from localhost:4040 (ngrok's web interface).\n",
    "import time, urllib\n",
    "time.sleep(1)  # Give ngrok time to startup.\n",
    "ngrok_data = json.load(urllib.request.urlopen('http://localhost:4040/api/tunnels'))\n",
    "ngrok_data['tunnels'][0]['public_url']"
   ]
  },
  {
   "cell_type": "markdown",
   "metadata": {
    "colab_type": "text",
    "id": "F5MXOBH3kkYj"
   },
   "source": [
    "Note: If you don't see any predictions, check the Browser's error console. If you see a message like \"Provided weight data has no target variable\" then it is likely due to weight names getting mixed up when reloading a saved model from disk. In that case, either convert a model trained in the current session - not loaded via `tf.keras.models.load_model()` - or restart the kernel and reload from disk using `tf.keras.models.load_model()`."
   ]
  },
  {
   "cell_type": "code",
   "execution_count": null,
   "metadata": {
    "colab": {},
    "colab_type": "code",
    "id": "Ug9gk1oma-64"
   },
   "outputs": [],
   "source": [
    "# You can connect to this external address using your mobile phone!\n",
    "# Once the page is loaded you can turn on flight modus and verify that\n",
    "# predictions are really generated on-device :-)\n",
    "!pip install -q qrcode\n",
    "import qrcode\n",
    "qrcode.make(ngrok_data['tunnels'][0]['public_url'])"
   ]
  },
  {
   "cell_type": "code",
   "execution_count": null,
   "metadata": {
    "colab": {},
    "colab_type": "code",
    "id": "t9fW7-rZf4xz"
   },
   "outputs": [],
   "source": []
  }
 ],
 "metadata": {
  "accelerator": "GPU",
  "colab": {
   "collapsed_sections": [
    "JndnmDMp66FL"
   ],
   "name": "EE-559 (2019): Practical Session 13",
   "provenance": [],
   "toc_visible": true,
   "version": "0.3.2"
  },
  "kernelspec": {
   "display_name": "Python 3",
   "language": "python",
   "name": "python3"
  },
  "language_info": {
   "codemirror_mode": {
    "name": "ipython",
    "version": 3
   },
   "file_extension": ".py",
   "mimetype": "text/x-python",
   "name": "python",
   "nbconvert_exporter": "python",
   "pygments_lexer": "ipython3",
   "version": "3.7.2"
  }
 },
 "nbformat": 4,
 "nbformat_minor": 2
}
